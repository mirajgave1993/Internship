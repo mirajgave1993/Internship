{
 "cells": [
  {
   "cell_type": "markdown",
   "metadata": {},
   "source": [
    "# Web Scrapping Assignment -2 "
   ]
  },
  {
   "cell_type": "code",
   "execution_count": 74,
   "metadata": {},
   "outputs": [],
   "source": [
    "import selenium\n",
    "import pandas as pd\n",
    "from selenium import webdriver\n",
    "import time\n",
    "from selenium.common.exceptions import  NoSuchElementException\n",
    "from selenium.webdriver.chrome.options import Options"
   ]
  },
  {
   "cell_type": "code",
   "execution_count": 2,
   "metadata": {},
   "outputs": [],
   "source": [
    "driver= webdriver.Chrome(r\"C:\\Users\\Admin\\Downloads\\chromedriver_win32\\chromedriver.exe\")"
   ]
  },
  {
   "cell_type": "markdown",
   "metadata": {},
   "source": [
    "# Q1: Write a python program to scrape data for “Data Analyst” Job position in “Bangalore” location. You have to scrape the job-title, job-location, company_name, experience_required. You have to scrape first 10 jobs data."
   ]
  },
  {
   "cell_type": "markdown",
   "metadata": {},
   "source": [
    "1. first get the webpage https://www.naukri.com/"
   ]
  },
  {
   "cell_type": "code",
   "execution_count": 3,
   "metadata": {},
   "outputs": [],
   "source": [
    "url='https://www.naukri.com/'\n",
    "driver.get(url)"
   ]
  },
  {
   "cell_type": "markdown",
   "metadata": {},
   "source": [
    "2. Enter “Data Analyst” in “Skill,Designations,Companies” field and enter “Bangalore”\n",
    "in “enter the location” field."
   ]
  },
  {
   "cell_type": "code",
   "execution_count": 6,
   "metadata": {},
   "outputs": [],
   "source": [
    "search_job=driver.find_element_by_id('qsb-keyword-sugg')\n",
    "search_job.send_keys('Data Analyst')\n",
    "\n",
    "search_location=driver.find_element_by_id('qsb-location-sugg')\n",
    "search_location.send_keys('Bangalore')"
   ]
  },
  {
   "cell_type": "markdown",
   "metadata": {},
   "source": [
    "3. Then click the search button"
   ]
  },
  {
   "cell_type": "code",
   "execution_count": 9,
   "metadata": {},
   "outputs": [],
   "source": [
    "search_btn=driver.find_element_by_xpath(\"//div[@class='search-btn']\")\n",
    "search_btn.click()"
   ]
  },
  {
   "cell_type": "markdown",
   "metadata": {},
   "source": [
    "4. Then scrape the data for the first 10 jobs results you get."
   ]
  },
  {
   "cell_type": "code",
   "execution_count": 10,
   "metadata": {},
   "outputs": [],
   "source": [
    "job_title=[]\n",
    "job_location=[]\n",
    "company_name=[]\n",
    "experience_required=[]"
   ]
  },
  {
   "cell_type": "code",
   "execution_count": 11,
   "metadata": {},
   "outputs": [],
   "source": [
    "title_tags=driver.find_elements_by_xpath(\"//a[@class='title fw500 ellipsis']\")\n",
    "for i in title_tags:\n",
    "    job_title.append(i.text)\n",
    "    Job=job_title[:10]"
   ]
  },
  {
   "cell_type": "code",
   "execution_count": 12,
   "metadata": {},
   "outputs": [
    {
     "data": {
      "text/plain": [
       "['Senior Data Analyst',\n",
       " 'Tcs Hiring For MDM (master data management) Data Analyst (bfsi domain)',\n",
       " 'Analyst & Designer - Software - Data Analysis',\n",
       " 'Senior Analyst - Data Science',\n",
       " 'Assoc/Analyst DMS(Advanced Analytics)',\n",
       " 'Assoc/Analyst DMS(Advanced Analytics)',\n",
       " 'Data Analyst SAS+Alteryx',\n",
       " 'People Analytics - Data Analyst',\n",
       " 'Senior Analyst-Data Management',\n",
       " 'Senior Data Analyst IN4']"
      ]
     },
     "execution_count": 12,
     "metadata": {},
     "output_type": "execute_result"
    }
   ],
   "source": [
    "Job"
   ]
  },
  {
   "cell_type": "code",
   "execution_count": 13,
   "metadata": {},
   "outputs": [
    {
     "data": {
      "text/plain": [
       "['Gurgaon/Gurugram, Bangalore/Bengaluru',\n",
       " 'Chennai, Bangalore/Bengaluru',\n",
       " 'Bangalore/Bengaluru',\n",
       " 'Hyderabad/Secunderabad, Chennai, Bangalore/Bengaluru',\n",
       " 'Bangalore/Bengaluru',\n",
       " 'Bangalore/Bengaluru',\n",
       " 'Pune, Chennai, Gurgaon/Gurugram, Bangalore/Bengaluru',\n",
       " 'Bangalore/Bengaluru',\n",
       " 'Bangalore/Bengaluru',\n",
       " 'Bangalore/Bengaluru']"
      ]
     },
     "execution_count": 13,
     "metadata": {},
     "output_type": "execute_result"
    }
   ],
   "source": [
    "location_tags=driver.find_elements_by_xpath(\"//li[@class='fleft grey-text br2 placeHolderLi location']\")\n",
    "for i in location_tags:\n",
    "    job_location.append(i.text)\n",
    "    loc=job_location[:10]\n",
    "loc"
   ]
  },
  {
   "cell_type": "code",
   "execution_count": 14,
   "metadata": {},
   "outputs": [
    {
     "data": {
      "text/plain": [
       "['Gaussian Networks Private Limited',\n",
       " 'Tata Consultancy Services Ltd.',\n",
       " 'HyreFox Consultants Pvt Ltd',\n",
       " 'Tiger Analytics India LLP',\n",
       " 'Time Analytic & Shared Services Private Limited',\n",
       " 'Meredith Corporation',\n",
       " 'Podium Systems',\n",
       " 'Marvell India Pvt Ltd',\n",
       " 'Accenture Solutions Pvt Ltd',\n",
       " 'Walmart Labs']"
      ]
     },
     "execution_count": 14,
     "metadata": {},
     "output_type": "execute_result"
    }
   ],
   "source": [
    "company_tags=driver.find_elements_by_xpath(\"//a[@class='subTitle ellipsis fleft']\")\n",
    "for i in company_tags:\n",
    "    company_name.append(i.text)\n",
    "    com=company_name[:10]\n",
    "com"
   ]
  },
  {
   "cell_type": "code",
   "execution_count": 17,
   "metadata": {},
   "outputs": [
    {
     "data": {
      "text/plain": [
       "['3-5 Yrs',\n",
       " '6-11 Yrs',\n",
       " '5-7 Yrs',\n",
       " '2-7 Yrs',\n",
       " '2-5 Yrs',\n",
       " '1-3 Yrs',\n",
       " '4-9 Yrs',\n",
       " '3-5 Yrs',\n",
       " '5-8 Yrs',\n",
       " '8-10 Yrs']"
      ]
     },
     "execution_count": 17,
     "metadata": {},
     "output_type": "execute_result"
    }
   ],
   "source": [
    "exp_tags=driver.find_elements_by_xpath(\"//li[@class='fleft grey-text br2 placeHolderLi experience']/span\")\n",
    "for i in exp_tags:\n",
    "    experience_required.append(i.text)\n",
    "    exp=experience_required[:10]\n",
    "exp"
   ]
  },
  {
   "cell_type": "markdown",
   "metadata": {},
   "source": [
    "5. Finally create a dataframe of the scraped data."
   ]
  },
  {
   "cell_type": "code",
   "execution_count": 18,
   "metadata": {},
   "outputs": [
    {
     "data": {
      "text/html": [
       "<div>\n",
       "<style scoped>\n",
       "    .dataframe tbody tr th:only-of-type {\n",
       "        vertical-align: middle;\n",
       "    }\n",
       "\n",
       "    .dataframe tbody tr th {\n",
       "        vertical-align: top;\n",
       "    }\n",
       "\n",
       "    .dataframe thead th {\n",
       "        text-align: right;\n",
       "    }\n",
       "</style>\n",
       "<table border=\"1\" class=\"dataframe\">\n",
       "  <thead>\n",
       "    <tr style=\"text-align: right;\">\n",
       "      <th></th>\n",
       "      <th>Job</th>\n",
       "      <th>Location</th>\n",
       "      <th>Company</th>\n",
       "      <th>Experience Required</th>\n",
       "    </tr>\n",
       "  </thead>\n",
       "  <tbody>\n",
       "    <tr>\n",
       "      <th>0</th>\n",
       "      <td>Senior Data Analyst</td>\n",
       "      <td>Gurgaon/Gurugram, Bangalore/Bengaluru</td>\n",
       "      <td>Gaussian Networks Private Limited</td>\n",
       "      <td>3-5 Yrs</td>\n",
       "    </tr>\n",
       "    <tr>\n",
       "      <th>1</th>\n",
       "      <td>Tcs Hiring For MDM (master data management) Da...</td>\n",
       "      <td>Chennai, Bangalore/Bengaluru</td>\n",
       "      <td>Tata Consultancy Services Ltd.</td>\n",
       "      <td>6-11 Yrs</td>\n",
       "    </tr>\n",
       "    <tr>\n",
       "      <th>2</th>\n",
       "      <td>Analyst &amp; Designer - Software - Data Analysis</td>\n",
       "      <td>Bangalore/Bengaluru</td>\n",
       "      <td>HyreFox Consultants Pvt Ltd</td>\n",
       "      <td>5-7 Yrs</td>\n",
       "    </tr>\n",
       "    <tr>\n",
       "      <th>3</th>\n",
       "      <td>Senior Analyst - Data Science</td>\n",
       "      <td>Hyderabad/Secunderabad, Chennai, Bangalore/Ben...</td>\n",
       "      <td>Tiger Analytics India LLP</td>\n",
       "      <td>2-7 Yrs</td>\n",
       "    </tr>\n",
       "    <tr>\n",
       "      <th>4</th>\n",
       "      <td>Assoc/Analyst DMS(Advanced Analytics)</td>\n",
       "      <td>Bangalore/Bengaluru</td>\n",
       "      <td>Time Analytic &amp; Shared Services Private Limited</td>\n",
       "      <td>2-5 Yrs</td>\n",
       "    </tr>\n",
       "    <tr>\n",
       "      <th>5</th>\n",
       "      <td>Assoc/Analyst DMS(Advanced Analytics)</td>\n",
       "      <td>Bangalore/Bengaluru</td>\n",
       "      <td>Meredith Corporation</td>\n",
       "      <td>1-3 Yrs</td>\n",
       "    </tr>\n",
       "    <tr>\n",
       "      <th>6</th>\n",
       "      <td>Data Analyst SAS+Alteryx</td>\n",
       "      <td>Pune, Chennai, Gurgaon/Gurugram, Bangalore/Ben...</td>\n",
       "      <td>Podium Systems</td>\n",
       "      <td>4-9 Yrs</td>\n",
       "    </tr>\n",
       "    <tr>\n",
       "      <th>7</th>\n",
       "      <td>People Analytics - Data Analyst</td>\n",
       "      <td>Bangalore/Bengaluru</td>\n",
       "      <td>Marvell India Pvt Ltd</td>\n",
       "      <td>3-5 Yrs</td>\n",
       "    </tr>\n",
       "    <tr>\n",
       "      <th>8</th>\n",
       "      <td>Senior Analyst-Data Management</td>\n",
       "      <td>Bangalore/Bengaluru</td>\n",
       "      <td>Accenture Solutions Pvt Ltd</td>\n",
       "      <td>5-8 Yrs</td>\n",
       "    </tr>\n",
       "    <tr>\n",
       "      <th>9</th>\n",
       "      <td>Senior Data Analyst IN4</td>\n",
       "      <td>Bangalore/Bengaluru</td>\n",
       "      <td>Walmart Labs</td>\n",
       "      <td>8-10 Yrs</td>\n",
       "    </tr>\n",
       "  </tbody>\n",
       "</table>\n",
       "</div>"
      ],
      "text/plain": [
       "                                                 Job  \\\n",
       "0                                Senior Data Analyst   \n",
       "1  Tcs Hiring For MDM (master data management) Da...   \n",
       "2      Analyst & Designer - Software - Data Analysis   \n",
       "3                      Senior Analyst - Data Science   \n",
       "4              Assoc/Analyst DMS(Advanced Analytics)   \n",
       "5              Assoc/Analyst DMS(Advanced Analytics)   \n",
       "6                           Data Analyst SAS+Alteryx   \n",
       "7                    People Analytics - Data Analyst   \n",
       "8                     Senior Analyst-Data Management   \n",
       "9                            Senior Data Analyst IN4   \n",
       "\n",
       "                                            Location  \\\n",
       "0              Gurgaon/Gurugram, Bangalore/Bengaluru   \n",
       "1                       Chennai, Bangalore/Bengaluru   \n",
       "2                                Bangalore/Bengaluru   \n",
       "3  Hyderabad/Secunderabad, Chennai, Bangalore/Ben...   \n",
       "4                                Bangalore/Bengaluru   \n",
       "5                                Bangalore/Bengaluru   \n",
       "6  Pune, Chennai, Gurgaon/Gurugram, Bangalore/Ben...   \n",
       "7                                Bangalore/Bengaluru   \n",
       "8                                Bangalore/Bengaluru   \n",
       "9                                Bangalore/Bengaluru   \n",
       "\n",
       "                                           Company Experience Required  \n",
       "0                Gaussian Networks Private Limited             3-5 Yrs  \n",
       "1                   Tata Consultancy Services Ltd.            6-11 Yrs  \n",
       "2                      HyreFox Consultants Pvt Ltd             5-7 Yrs  \n",
       "3                        Tiger Analytics India LLP             2-7 Yrs  \n",
       "4  Time Analytic & Shared Services Private Limited             2-5 Yrs  \n",
       "5                             Meredith Corporation             1-3 Yrs  \n",
       "6                                   Podium Systems             4-9 Yrs  \n",
       "7                            Marvell India Pvt Ltd             3-5 Yrs  \n",
       "8                      Accenture Solutions Pvt Ltd             5-8 Yrs  \n",
       "9                                     Walmart Labs            8-10 Yrs  "
      ]
     },
     "execution_count": 18,
     "metadata": {},
     "output_type": "execute_result"
    }
   ],
   "source": [
    "Job_Bangalore={'Job':Job,'Location':loc,\n",
    "              'Company':com,'Experience Required':exp}\n",
    "Job_Bangalore=pd.DataFrame(data=Job_Bangalore)\n",
    "Job_Bangalore"
   ]
  },
  {
   "cell_type": "markdown",
   "metadata": {},
   "source": [
    "# Q2: Write a python program to scrape data for “Data Scientist” Job position in “Bangalore” location. You have to scrape the job-title, job-location, company_name, full job-description. You have to scrape first 10 jobs data."
   ]
  },
  {
   "cell_type": "markdown",
   "metadata": {},
   "source": [
    "1. First get the webpage https://www.naukri.com/"
   ]
  },
  {
   "cell_type": "code",
   "execution_count": 31,
   "metadata": {},
   "outputs": [],
   "source": [
    "url='https://www.naukri.com/'\n",
    "driver.get(url)"
   ]
  },
  {
   "cell_type": "markdown",
   "metadata": {},
   "source": [
    "2. Enter “Data Scientist” in “Skill,Designations,Companies” field and enter\n",
    "“Bangalore” in “enter the location” field."
   ]
  },
  {
   "cell_type": "code",
   "execution_count": 32,
   "metadata": {},
   "outputs": [],
   "source": [
    "search_job=driver.find_element_by_id('qsb-keyword-sugg')\n",
    "search_job.send_keys('Data Analyst')\n",
    "\n",
    "search_location=driver.find_element_by_id('qsb-location-sugg')\n",
    "search_location.send_keys('Bangalore')"
   ]
  },
  {
   "cell_type": "markdown",
   "metadata": {},
   "source": [
    "3. Then click the search button"
   ]
  },
  {
   "cell_type": "code",
   "execution_count": 33,
   "metadata": {},
   "outputs": [],
   "source": [
    "search_btn=driver.find_element_by_xpath(\"//button[@class='btn']\")\n",
    "search_btn.click()"
   ]
  },
  {
   "cell_type": "markdown",
   "metadata": {},
   "source": [
    "4. Then scrape the data for the first 10 jobs results you get."
   ]
  },
  {
   "cell_type": "code",
   "execution_count": 34,
   "metadata": {},
   "outputs": [],
   "source": [
    "job=[]\n",
    "loc=[]\n",
    "comp=[]\n",
    "desc=[]"
   ]
  },
  {
   "cell_type": "code",
   "execution_count": 35,
   "metadata": {},
   "outputs": [
    {
     "data": {
      "text/plain": [
       "['Senior Data Analyst',\n",
       " 'Tcs Hiring For Senior Data Analyst (bfsi domain)',\n",
       " 'Business Data Analyst',\n",
       " 'Business Data Analyst',\n",
       " 'Business Data Analyst - Google Data Studio & SQL',\n",
       " 'Senior Data Analyst',\n",
       " 'Tcs Hiring For MDM (master data management) Data Analyst (bfsi domain)',\n",
       " 'Senior Data Analyst IDAM Services',\n",
       " 'Data Analyst/Sr.Data Engineer',\n",
       " 'SENIOR DATA ANALYST']"
      ]
     },
     "execution_count": 35,
     "metadata": {},
     "output_type": "execute_result"
    }
   ],
   "source": [
    "title=driver.find_elements_by_xpath(\"//a[@class='title fw500 ellipsis']\")\n",
    "for i in title:\n",
    "    job.append(i.text)\n",
    "    job=job[:10]\n",
    "job"
   ]
  },
  {
   "cell_type": "code",
   "execution_count": 36,
   "metadata": {},
   "outputs": [
    {
     "data": {
      "text/plain": [
       "['Gurgaon/Gurugram, Bangalore/Bengaluru',\n",
       " 'Chennai, Bangalore/Bengaluru',\n",
       " 'Bangalore/Bengaluru',\n",
       " 'Bangalore/Bengaluru',\n",
       " 'Bangalore/Bengaluru',\n",
       " 'Hyderabad/Secunderabad, Pune, Gurgaon/Gurugram, Chennai, Bangalore/Bengaluru, Mumbai (All Areas)',\n",
       " '(WFH during Covid)',\n",
       " 'Chennai, Bangalore/Bengaluru',\n",
       " 'Bangalore/Bengaluru',\n",
       " 'Hyderabad/Secunderabad, Chennai, Bangalore/Bengaluru']"
      ]
     },
     "execution_count": 36,
     "metadata": {},
     "output_type": "execute_result"
    }
   ],
   "source": [
    "locations=driver.find_elements_by_xpath(\"//li[@class='fleft grey-text br2 placeHolderLi location']/span\")\n",
    "for i in locations:\n",
    "    loc.append(i.text)\n",
    "loc=loc[:10]\n",
    "loc"
   ]
  },
  {
   "cell_type": "code",
   "execution_count": 37,
   "metadata": {},
   "outputs": [
    {
     "data": {
      "text/plain": [
       "['Gaussian Networks Private Limited',\n",
       " 'Tata Consultancy Services Ltd.',\n",
       " 'Trigent Software',\n",
       " 'Trigent Software',\n",
       " 'AVE-Promagne',\n",
       " 'Virtusa Consulting Services Pvt Ltd',\n",
       " 'Tata Consultancy Services Ltd.',\n",
       " 'GlaxoSmithKline Pharmaceuticals Limited',\n",
       " 'SYREN TECHNOLOGIES PRIVATE LIMITED',\n",
       " 'McAfee Software (India) Pvt. Ltd']"
      ]
     },
     "execution_count": 37,
     "metadata": {},
     "output_type": "execute_result"
    }
   ],
   "source": [
    "company=driver.find_elements_by_xpath(\"//a[@class='subTitle ellipsis fleft']\")\n",
    "for i in company:\n",
    "    comp.append(i.text)\n",
    "    \n",
    "comp=comp[:10]\n",
    "comp"
   ]
  },
  {
   "cell_type": "markdown",
   "metadata": {},
   "source": [
    "Scraping Full Job descreption using Exception Handling"
   ]
  },
  {
   "cell_type": "code",
   "execution_count": 38,
   "metadata": {},
   "outputs": [],
   "source": [
    "from selenium.common.exceptions import  NoSuchElementException"
   ]
  },
  {
   "cell_type": "code",
   "execution_count": 39,
   "metadata": {},
   "outputs": [
    {
     "data": {
      "text/plain": [
       "['Gauss Networks is seeking a highly motivated and self-driven Data Analyst to join the organization. As a Data Analyst, you will be responsible for helping define, create, and track key business and customer metrics. You will access and compile data sets from various sources for exploratory and pre-defined analyses; audit data sets for completeness, validity, and other pertinent data health measures; and support evaluation of data sets for analytical possibilities and pitfalls. You will be responsible for concisely communicating complex findings to non-technical internal and external stakeholders. We are seeking a candidate that has a desire to learn, a collaborative attitude, strong technical skills, and the ability to deliver concise communication to a variety of stakeholders.\\n\\nMinimum Qualifications\\nProficiency in Python\\nTechnical expertise regarding data models, database design development, data mining and segmentation techniques\\nBachelors Degree in Information Systems, Management Information Systems, Mathematics, Statistics, Actuarial Science, Analytics, or related field, or equivalent relevant work experience\\nAt least 3 years of data analysis work experience including data management, transformation and visualization\\nConversant with SQL and a sound understanding of relational databases\\n\\nPreferred Qualifications\\nKnowledge of Graph Theory or Graph Databases\\nPrior experience with data analysis and visualization\\nPrior experience in ML - predictive modeling, tensor flow, NLP\\n\\nExpectations\\nWilling to travel up to 40% as needed\\nWilling to work additional or irregular hours as needed',\n",
       " 'Roles and Responsibilities\\n\\n8+ years of experience working as senior data/system analyst\\n3+ years of experience in credit, finance, and regulatory domain/data\\nWell versed with data management, data governance and data quality process and frameworks\\nWorking knowledge of data mapping, lineage, banking data, requirements, and data dictionary document\\nAbility to write SQL, perform data analysis, experience with data warehouse, data marts, ETL process\\nGood communication skill\\nExpertise in data management, data governance and data quality process and frameworks, strong in SQL, Datawarehouse, ETL concepts',\n",
       " 'Dear Candidates\\n\\nWe have a Immediate requirement of Business Data Analyst for one of our Client at Bangalore Location.\\n\\nSummary\\nLocation: Bangalore\\nExperience: 5+  years experience level is required.\\nPosition:  Business Data Analyst\\nImmediate joiners preferred within 15 days joiners acceptable.\\n\\nJD for Business Data Analyst:\\n\\nJob Summary\\n\\nDevelop, maintain, and take ownership of key Business Metrics and Dashboards by engaging with stakeholders.\\nAutomate existing Reports and Dashboards using Power Automate, Power Query, VBA and Develop data models using Visual Studio.\\nPerform ETL/ELT operations and write automation/job scripts using Python/Shell.\\nConfigure and manage data sources- Oracle, MS SQL Server, MySQL.\\nDevelop and deploy cloud data models on Azure/AWS/Google Cloud\\nCreate Continuous Integration and Deployment pipelines of reports and Dashboards\\nSupport and work alongside a cross-functional team on the latest technologies\\n\\nJob Requirements\\n\\nHands-on experience with Tableau Development\\nData Cleaning, Massaging, Writing Complex calculations\\n\\n-DB tools: Oracle, MS SQL server\\n\\n-R and/or Python with be an advantage.\\n\\n-Experience in Power BI would be a plus.\\n\\nExperience with open-source technologies and cloud services like Azure Analysis Services.\\nExperience in Machine Learning is a plus\\nCommand over advanced MS Excel, DAX Formulas, Power Point\\nExcellent critical thinking skills with Strong attention to details\\nSelf starter and Self Propelled who can work with minimum management instruction\\nExcellent Business analysis and analytical skills\\nTeam player with ability to engage with multiple stakeholders in different time-zones\\nExcellent communication skills\\nExperience with engaging with Senior Management\\nSCM/Operations domain knowledge as well as experience with Tools like Anaplan would be an added advantage\\n\\nEducation\\n\\nBachelors Degree or Masters in Computer Science, Engineering, Data Science, or a relevant field.\\n\\nTotal relevant experience: 5 Plus years\\n\\nRegards\\nNaveen Kumar N\\nMail id: naveen_k@trigent.com\\nContact no: 9108228912 (Call between 9:30 Am to 6:30 Pm on Weekdays only)',\n",
       " 'Dear Candidates\\n\\nWe have a Immediate requirement of Business Data Analyst for one of our Client at Bangalore Location.\\n\\nSummary\\nLocation: Bangalore\\nExperience: 5+  years experience level is required.\\nPosition:  Business Data Analyst\\nImmediate joiners preferred within 15 days joiners acceptable.\\n\\nJD for Business Data Analyst:\\n\\nJob Summary\\n\\nDevelop, maintain, and take ownership of key Business Metrics and Dashboards by engaging with stakeholders.\\nAutomate existing Reports and Dashboards using Power Automate, Power Query, VBA and Develop data models using Visual Studio.\\nPerform ETL/ELT operations and write automation/job scripts using Python/Shell.\\nConfigure and manage data sources- Oracle, MS SQL Server, MySQL.\\nDevelop and deploy cloud data models on Azure/AWS/Google Cloud\\nCreate Continuous Integration and Deployment pipelines of reports and Dashboards\\nSupport and work alongside a cross-functional team on the latest technologies\\n\\nJob Requirements\\n\\nHands-on experience with Tableau Development\\nData Cleaning, Massaging, Writing Complex calculations\\n\\n-DB tools: Oracle, MS SQL server\\n\\n-R and/or Python with be an advantage.\\n\\n-Experience in Power BI would be a plus.\\n\\nExperience with open-source technologies and cloud services like Azure Analysis Services.\\nExperience in Machine Learning is a plus\\nCommand over advanced MS Excel, DAX Formulas, Power Point\\nExcellent critical thinking skills with Strong attention to details\\nSelf starter and Self Propelled who can work with minimum management instruction\\nExcellent Business analysis and analytical skills\\nTeam player with ability to engage with multiple stakeholders in different time-zones\\nExcellent communication skills\\nExperience with engaging with Senior Management\\nSCM/Operations domain knowledge as well as experience with Tools like Anaplan would be an added advantage\\n\\nEducation\\n\\nBachelors Degree or Masters in Computer Science, Engineering, Data Science, or a relevant field.\\n\\nTotal relevant experience: 5 Plus years\\n\\nRegards\\nNaveen Kumar N\\nMail id: naveen_k@trigent.com\\nContact no: 9108228912 (Call between 9:30 Am to 6:30 Pm on Weekdays only)',\n",
       " 'Your responsibilities will include but not limited to:\\n\\nBuilding interactive dashboards and visualizations on Tableau and/or Google Data Studio platform\\nProviding data analysis, reporting, and data support to internal and external stakeholders to drive business process improvements and achieve top-line objectives\\nInterpreting business requirements and translating them into analytical objectives\\nPerforming root cause analysis on business problems while providing recommendations in a timely manner\\nInstilling a company wide-culture of data-first decision making and driving continuous data quality best practices\\nTHE QUALIFICATIONS\\n\\nBachelor’s degree in Analytics, Engineering, Statistics, Management Science, Applied Mathematics, or related field, with Master’s degree preferred\\n3+ years of experience in a high-paced, tech-first company, with financial services experience preferred\\nDemonstrable experience using data visualization tools such as Tableau or Google Data Studio\\nUnderstanding of how relational databases work, how objects are linked with each other, different types of joins, and how to use them for reporting\\nFamiliarity using complex nested condition loops (using functions such as If, Where, Case, etc) and using logical operators (such as AND, OR, NOT, etc)\\nStrong ability to understand how to use data to support and enhance business processes\\nAbility to work with large relational datasets and derive insights from the same\\nPrior work experience or coursework on Salesforce CRM is a plus\\nExcellent verbal and written communication, presentation and facilitation skills with the ability to express complex concepts in plain language to reach broader audiences',\n",
       " 'NA',\n",
       " 'Roles and Responsibilities\\n\\nDeep expertise in Data, Analytics and regulatory data domains\\n• Broad experience desired, in multiple domain areas, such as data warehousing, business intelligence (BI), data governance, data integration, data classification, data strategy, data quality management, MDM, data standards and regulatory compliance.\\n• Full cycle MDM implementation experience with leading MDM products e.g. Informatica, in customer and Product domain\\n• Good Business and functional experience on MDM\\n• Data wizard with hands on data analysis, profiling and PL/SQL skills\\n• Self-directed with the ability to manage simultaneous engagements with minimal supervision\\n• Excellent presentation, listening, and writing skills with ability to lead\\n• Good understanding of related advanced/new technologies, which could be leveraged to enhance current capabilities and build durable new ones\\n• Strong analytical and problem-solving skills coupled with attention to detail is desired\\n\\n\\nThis role requires detailed knowledge of modern Master Data Management practices in enterprise environments, data ingestion and data pipeline management, data services foundation, global financial reporting and analysis and data visualization products (products and open source) as well as an understanding and desire to adapt Agile methodologies into the product management process',\n",
       " '  Identity and Access Management is a function within the Tech Ops group that globally manages directories, accounts, access, passwords, federation and sign-on functions. It provides a secure foundation, with standard process and tools to ensure access to GSK information and systems is protected.\\nTo work with designated TECH groups to identify opportunities to improve internal performance by optimizing processes, facilitating change and exploiting information technology to meet Identity Access Management (IAM) objectives. To provide business consulting and analysis expertise in the development of TECH strategies.\\nTo perform business analysis activities to define IAM needs, develop the benefits case for change or process improvement projects, define requirements, develop project charters and ensure benefit is delivered. To take an active role in the management of data in IDAM systems to facilitate its use by the business.\\nThis role will provide YOU the opportunity to lead key activities to progress YOUR career. These responsibilities include some of the following:\\nAssist with the development of TECH strategies for IAM. Perform analysis during design, development and implementation of change and process redesign, working with Project Managers, Act both as a technical Lead and/or architect to ensure that requirements are met and benefits realised for TECH projects.\\nRepresent TECH on management teams, cross-functional teams, and committees. Use analytical techniques and tools to improve IAM performance or solve problems by optimizing processes, facilitating change, improving compliance with existing processes, and applying information technologies.\\nFacilitate communications between Business Partners and TECH. Identify interdependency of changes in IAM processes and TECH systems. Partner with TECH colleagues to optimize the IAM TECH product portfolio\\nTechnical support for the new/other team members - share knowledge, best practices, procedures and processes\\nContribute towards the management of TECH aspects of business initiatives (such as audits, MAADs, TSR Security Response etc.) and assist IDAM in managing changes\\nOwn the technical BI architecture strategy that will increase customer value and adoption of well-architected cloud solutions across Hosting.\\nIn partnership with 3rd party tech suppliers formulate and execute delivery of a customer-focused BI architecture.\\nStrong experience in Power BI, ServiceNow, SQL, Azure ADF, IDAM process,\\nReview project team architectural designs to ensure consistency alignment with defined target architecture and adherence to established standards\\nProvide BI solution designs to meet business requirements; collaborating with Tech Enterprise Architecture (EA) for approval to ensure alignment to best practices and architectural principles and practices.\\nDevelop ETL/ELT processes, data lakes, data warehouse databases, cubes, reports, dashboards, in-line with reporting strategy and architecture. Assist in developing standards for data lakes, data ingestion, data access layers and BI solutions as key components of the BI architecture. Building Single Source of Truth Data lakes using Azure ADF, Rest API and build the BI solutions on top of it.\\nDesign models and databases both relational and dimensional and analytics cubes to support reporting requirements. Guide and prioritise the development of BI whitepapers, data sheets, and other high-value customer facing guidance and best practices.\\nDevelop and maintain understanding of:\\n- Knowledge of IDAM processes, systems and objectives;\\n- Industry-wide practices and trends in TECH solutions for IAM;\\n-Mainstream development methodologies, analysis techniques, target policy guidelines and standards',\n",
       " 'Responsibilities:\\nProvide innovative analytical insights within the Data\\nConduct detailed data analysis on data used across business units to evaluate business processes and improve on/create new feature\\nRespond to data and product related inquiries in real-time to support business and technical teams\\nPerform various data analytics in SQL and MS Excel using statistical models or industry accepted tools\\nProvide relational database expertise to construct and execute SQL queries to be used in data analysis activities\\nProvide data solutions, tools, and capabilities to enable self-service frameworks for data consumers\\nProvide expertise and translate the business needs to design; and develop tools, techniques, and metrics, and dashboards for insights and data visualization\\nResponsible for developing and executing tools to monitor and report on data quality\\nResponsible for establishing appreciation and adherence to the principles of data quality management, including metadata, lineage, and business definitions\\n\\nRequirements.\\nDegree in computer science or equivalent preferred.\\nMust have 5-8 years of total IT experience on Microsoft Power BI, SQL Server, SSIS, SSRS, SSAS.\\nDebugging and Troubleshooting SSIS Packages.\\nImplemented Error Handling/ debugging the packages with Data Viewers, break points, Event Handlers and Configure Error Output.\\nStrong Knowledge in SQL Server BI suite (SSIS, SSAS, SSRS Reporting, Analytics, and Dashboards).\\nStrong Knowledge in ETL Design, Development, Implementation and Support using SQL Database, data warehousing environments.\\nExperience in creating T-SQL Procedures, Functions and Indexes based on business requirements.\\nExpert in Data Extraction, Transforming and Loading (ETL) using SSIS.\\nDesigning and developing the SSIS Packages.\\nExperience Developing visual reports, dashboards and cards using Power BI desktop.\\nExperience in Connecting to data sources, importing data, and transforming data for Business Intelligence.\\n\\nPerks and Benefits\\n\\nAn Opportunity to work with fortune 50 clients\\nSalary best in the industry + Performance Bonus.\\n\\nImmediate joiners will be given more priority less than 30 days notice',\n",
       " 'Role Overview:\\nWe are looking for an experienced senior data analytics engineer, with BigData back ground, who can help us to develop analytics tools and solutions. These solutions will be dedicated to improving the quality of Data, Working with Analytics Team, be a catalyst for change across products by developing engineering tools, control strategies, system optimization and diagnostic algorithms for internal and external customers\\n\\nAbout the Role:\\nReads and understands algorithms and other techniques from academic papers\\nGenerates reports for decision-making using data visualization and data mining\\nCan handle design of modules.\\nCan do performance tuning of stored data in database and processing algorithm\\nLearn all engineering process, and strive for quality\\nMaintain awareness on current and new technologies and analyze their applicability to the program.\\nProvides inputs for design\\nOwn small independent modules (Design, develop, test, integrate)\\nUnderstand impact of code and script changes\\nWrites analytics scripts using Spark, Azure, AWS\\nProvide technical direction for Application sub-system, research, design, analysis, testing,process improvement, and troubleshooting.\\nIn depth understanding of the Project Life\\nExcellent software debugging skills\\nConstantly helping team to improve on quality numbers.\\nPeer to Peer review\\nContinuously improving to provide excellent documentation to end users\\nAbout You:\\nYou should have 6-8 years of relevant experience with excellent programming, data analysis, and communication skills\\nYou should have the ability to think creatively through the problem-solving process\\nYou must have experience coding either in Python, R, Scala, JavaScript or similar language\\nStrong knowledge on Azure, AWS, Spark, SQL\\nYou should have ability to visualize data for stack holders using tools like PowerBI, Tableau\\nMust be able to process, clean and verify the integrity of raw data.\\nA self-starter who is able to be highly productive with minimal supervision\\nShould be able to lead the development of algorithms for complex systems for the purposes of understanding, prediction and optimization\\nShould have knowledge in mathematical optimization and Machine Learning']"
      ]
     },
     "execution_count": 39,
     "metadata": {},
     "output_type": "execute_result"
    }
   ],
   "source": [
    "url_job=[]\n",
    "for i in title:\n",
    "    url_job.append(i.get_attribute('href'))\n",
    "\n",
    "for k in url_job[0:10]:\n",
    "    try:\n",
    "        \n",
    "        driver.get(k)\n",
    "        descript=driver.find_element_by_xpath(\"//div[@class='dang-inner-html']\").text\n",
    "        desc.append(descript)\n",
    "    except NoSuchElementException:\n",
    "        desc.append('NA')\n",
    "\n",
    "desc=desc[:10]\n",
    "desc"
   ]
  },
  {
   "cell_type": "markdown",
   "metadata": {},
   "source": [
    "5. Finally create a dataframe of the scraped data."
   ]
  },
  {
   "cell_type": "code",
   "execution_count": 40,
   "metadata": {},
   "outputs": [
    {
     "data": {
      "text/html": [
       "<div>\n",
       "<style scoped>\n",
       "    .dataframe tbody tr th:only-of-type {\n",
       "        vertical-align: middle;\n",
       "    }\n",
       "\n",
       "    .dataframe tbody tr th {\n",
       "        vertical-align: top;\n",
       "    }\n",
       "\n",
       "    .dataframe thead th {\n",
       "        text-align: right;\n",
       "    }\n",
       "</style>\n",
       "<table border=\"1\" class=\"dataframe\">\n",
       "  <thead>\n",
       "    <tr style=\"text-align: right;\">\n",
       "      <th></th>\n",
       "      <th>Job</th>\n",
       "      <th>Location</th>\n",
       "      <th>Company</th>\n",
       "      <th>Job Description</th>\n",
       "    </tr>\n",
       "  </thead>\n",
       "  <tbody>\n",
       "    <tr>\n",
       "      <th>0</th>\n",
       "      <td>Senior Data Analyst</td>\n",
       "      <td>Gurgaon/Gurugram, Bangalore/Bengaluru</td>\n",
       "      <td>Gaussian Networks Private Limited</td>\n",
       "      <td>Gauss Networks is seeking a highly motivated a...</td>\n",
       "    </tr>\n",
       "    <tr>\n",
       "      <th>1</th>\n",
       "      <td>Tcs Hiring For Senior Data Analyst (bfsi domain)</td>\n",
       "      <td>Chennai, Bangalore/Bengaluru</td>\n",
       "      <td>Tata Consultancy Services Ltd.</td>\n",
       "      <td>Roles and Responsibilities\\n\\n8+ years of expe...</td>\n",
       "    </tr>\n",
       "    <tr>\n",
       "      <th>2</th>\n",
       "      <td>Business Data Analyst</td>\n",
       "      <td>Bangalore/Bengaluru</td>\n",
       "      <td>Trigent Software</td>\n",
       "      <td>Dear Candidates\\n\\nWe have a Immediate require...</td>\n",
       "    </tr>\n",
       "    <tr>\n",
       "      <th>3</th>\n",
       "      <td>Business Data Analyst</td>\n",
       "      <td>Bangalore/Bengaluru</td>\n",
       "      <td>Trigent Software</td>\n",
       "      <td>Dear Candidates\\n\\nWe have a Immediate require...</td>\n",
       "    </tr>\n",
       "    <tr>\n",
       "      <th>4</th>\n",
       "      <td>Business Data Analyst - Google Data Studio &amp; SQL</td>\n",
       "      <td>Bangalore/Bengaluru</td>\n",
       "      <td>AVE-Promagne</td>\n",
       "      <td>Your responsibilities will include but not lim...</td>\n",
       "    </tr>\n",
       "    <tr>\n",
       "      <th>5</th>\n",
       "      <td>Senior Data Analyst</td>\n",
       "      <td>Hyderabad/Secunderabad, Pune, Gurgaon/Gurugram...</td>\n",
       "      <td>Virtusa Consulting Services Pvt Ltd</td>\n",
       "      <td>NA</td>\n",
       "    </tr>\n",
       "    <tr>\n",
       "      <th>6</th>\n",
       "      <td>Tcs Hiring For MDM (master data management) Da...</td>\n",
       "      <td>(WFH during Covid)</td>\n",
       "      <td>Tata Consultancy Services Ltd.</td>\n",
       "      <td>Roles and Responsibilities\\n\\nDeep expertise i...</td>\n",
       "    </tr>\n",
       "    <tr>\n",
       "      <th>7</th>\n",
       "      <td>Senior Data Analyst IDAM Services</td>\n",
       "      <td>Chennai, Bangalore/Bengaluru</td>\n",
       "      <td>GlaxoSmithKline Pharmaceuticals Limited</td>\n",
       "      <td>Identity and Access Management is a function...</td>\n",
       "    </tr>\n",
       "    <tr>\n",
       "      <th>8</th>\n",
       "      <td>Data Analyst/Sr.Data Engineer</td>\n",
       "      <td>Bangalore/Bengaluru</td>\n",
       "      <td>SYREN TECHNOLOGIES PRIVATE LIMITED</td>\n",
       "      <td>Responsibilities:\\nProvide innovative analytic...</td>\n",
       "    </tr>\n",
       "    <tr>\n",
       "      <th>9</th>\n",
       "      <td>SENIOR DATA ANALYST</td>\n",
       "      <td>Hyderabad/Secunderabad, Chennai, Bangalore/Ben...</td>\n",
       "      <td>McAfee Software (India) Pvt. Ltd</td>\n",
       "      <td>Role Overview:\\nWe are looking for an experien...</td>\n",
       "    </tr>\n",
       "  </tbody>\n",
       "</table>\n",
       "</div>"
      ],
      "text/plain": [
       "                                                 Job  \\\n",
       "0                                Senior Data Analyst   \n",
       "1   Tcs Hiring For Senior Data Analyst (bfsi domain)   \n",
       "2                              Business Data Analyst   \n",
       "3                              Business Data Analyst   \n",
       "4   Business Data Analyst - Google Data Studio & SQL   \n",
       "5                                Senior Data Analyst   \n",
       "6  Tcs Hiring For MDM (master data management) Da...   \n",
       "7                  Senior Data Analyst IDAM Services   \n",
       "8                      Data Analyst/Sr.Data Engineer   \n",
       "9                                SENIOR DATA ANALYST   \n",
       "\n",
       "                                            Location  \\\n",
       "0              Gurgaon/Gurugram, Bangalore/Bengaluru   \n",
       "1                       Chennai, Bangalore/Bengaluru   \n",
       "2                                Bangalore/Bengaluru   \n",
       "3                                Bangalore/Bengaluru   \n",
       "4                                Bangalore/Bengaluru   \n",
       "5  Hyderabad/Secunderabad, Pune, Gurgaon/Gurugram...   \n",
       "6                                 (WFH during Covid)   \n",
       "7                       Chennai, Bangalore/Bengaluru   \n",
       "8                                Bangalore/Bengaluru   \n",
       "9  Hyderabad/Secunderabad, Chennai, Bangalore/Ben...   \n",
       "\n",
       "                                   Company  \\\n",
       "0        Gaussian Networks Private Limited   \n",
       "1           Tata Consultancy Services Ltd.   \n",
       "2                         Trigent Software   \n",
       "3                         Trigent Software   \n",
       "4                             AVE-Promagne   \n",
       "5      Virtusa Consulting Services Pvt Ltd   \n",
       "6           Tata Consultancy Services Ltd.   \n",
       "7  GlaxoSmithKline Pharmaceuticals Limited   \n",
       "8       SYREN TECHNOLOGIES PRIVATE LIMITED   \n",
       "9         McAfee Software (India) Pvt. Ltd   \n",
       "\n",
       "                                     Job Description  \n",
       "0  Gauss Networks is seeking a highly motivated a...  \n",
       "1  Roles and Responsibilities\\n\\n8+ years of expe...  \n",
       "2  Dear Candidates\\n\\nWe have a Immediate require...  \n",
       "3  Dear Candidates\\n\\nWe have a Immediate require...  \n",
       "4  Your responsibilities will include but not lim...  \n",
       "5                                                 NA  \n",
       "6  Roles and Responsibilities\\n\\nDeep expertise i...  \n",
       "7    Identity and Access Management is a function...  \n",
       "8  Responsibilities:\\nProvide innovative analytic...  \n",
       "9  Role Overview:\\nWe are looking for an experien...  "
      ]
     },
     "execution_count": 40,
     "metadata": {},
     "output_type": "execute_result"
    }
   ],
   "source": [
    "Data_Scientist={'Job':job,'Location':loc,\n",
    "              'Company':comp,'Job Description':desc}\n",
    "Data_Scientist=pd.DataFrame(data=Data_Scientist)\n",
    "Data_Scientist"
   ]
  },
  {
   "cell_type": "markdown",
   "metadata": {},
   "source": [
    "# Q3: In this question you have to scrape data using the filters available on the webpage as shown below:\n",
    "You have to use the location and salary filter. You have to scrape data for “Data Scientist” designation for first 10 job results. You have to scrape the job-title, job-location, company_name, experience_required. The location filter to be used is “Delhi/NCR” The salary filter to be used is “3-6” lakhs The task will be done as shown in the below steps:"
   ]
  },
  {
   "cell_type": "code",
   "execution_count": null,
   "metadata": {},
   "outputs": [],
   "source": []
  },
  {
   "cell_type": "markdown",
   "metadata": {},
   "source": [
    "1. First get the webpage https://www.naukri.com/"
   ]
  },
  {
   "cell_type": "code",
   "execution_count": 42,
   "metadata": {},
   "outputs": [],
   "source": [
    "url='https://www.naukri.com/'\n",
    "driver.get(url)"
   ]
  },
  {
   "cell_type": "markdown",
   "metadata": {},
   "source": [
    "2. Enter “Data Scientist” in “Skill,Designations,Companies” field ."
   ]
  },
  {
   "cell_type": "code",
   "execution_count": 43,
   "metadata": {},
   "outputs": [],
   "source": [
    "driver.find_element_by_xpath(\"//input[@class='sugInp']\").send_keys('Data Scientist')"
   ]
  },
  {
   "cell_type": "markdown",
   "metadata": {},
   "source": [
    "3. Then click the search button."
   ]
  },
  {
   "cell_type": "code",
   "execution_count": 44,
   "metadata": {},
   "outputs": [],
   "source": [
    "driver.find_element_by_xpath(\"//button[@class='btn']\").click()"
   ]
  },
  {
   "cell_type": "markdown",
   "metadata": {},
   "source": [
    "4. Then apply the location filter and salary filter by checking the respective boxes"
   ]
  },
  {
   "cell_type": "code",
   "execution_count": 45,
   "metadata": {},
   "outputs": [],
   "source": [
    "driver.find_element_by_xpath(\"//label[@for='chk-Delhi / NCR-cityTypeGid-']/i\").click()\n",
    "time.sleep(4)"
   ]
  },
  {
   "cell_type": "code",
   "execution_count": 46,
   "metadata": {},
   "outputs": [],
   "source": [
    "driver.find_element_by_xpath(\"//label[@for='chk-3-6 Lakhs-ctcFilter-']/i\").click()"
   ]
  },
  {
   "cell_type": "markdown",
   "metadata": {},
   "source": [
    "5. Then scrape the data for the first 10 jobs results you get."
   ]
  },
  {
   "cell_type": "code",
   "execution_count": 47,
   "metadata": {},
   "outputs": [],
   "source": [
    "Job=[]\n",
    "Loc=[]\n",
    "Comp=[]\n",
    "Exp=[]"
   ]
  },
  {
   "cell_type": "code",
   "execution_count": 48,
   "metadata": {},
   "outputs": [],
   "source": [
    "#scrapping job titles\n",
    "titles = driver.find_elements_by_xpath(\"//a[@class='title fw500 ellipsis']\")\n",
    "for i in titles:\n",
    "    Job.append(i.text)\n",
    "    Job=Job[:10]"
   ]
  },
  {
   "cell_type": "code",
   "execution_count": 49,
   "metadata": {},
   "outputs": [
    {
     "data": {
      "text/plain": [
       "['Data Scientist/ Machine Learning Engineer',\n",
       " 'Data Scientist / Data Analyst / Business Analytics - MNC Jobs Freshers',\n",
       " 'Data Scientist - WFH - MIND Infotech',\n",
       " 'Data Scientist / Data Analyst',\n",
       " 'Only Fresher / Data Scientist / Data Analyst / Analytics - MNC Jobs',\n",
       " 'Data Scientist / Data Analyst / Business Analytics - MNC Jobs Freshers',\n",
       " 'Data Scientist',\n",
       " 'Data Scientist',\n",
       " 'Data Scientist - Insurance',\n",
       " 'Junior Data Scientists & Engineers']"
      ]
     },
     "execution_count": 49,
     "metadata": {},
     "output_type": "execute_result"
    }
   ],
   "source": [
    "Job"
   ]
  },
  {
   "cell_type": "code",
   "execution_count": 50,
   "metadata": {},
   "outputs": [],
   "source": [
    "#scrapping location\n",
    "loct=driver.find_elements_by_xpath(\"//li[@class='fleft grey-text br2 placeHolderLi location']/span\")\n",
    "for i in loct:\n",
    "    Loc.append(i.text)\n",
    "    Loc=Loc[:10]"
   ]
  },
  {
   "cell_type": "code",
   "execution_count": 51,
   "metadata": {},
   "outputs": [
    {
     "data": {
      "text/plain": [
       "['Hyderabad/Secunderabad, Pune, Ahmedabad, Gurgaon/Gurugram, Chennai, Bangalore/Bengaluru',\n",
       " 'Ghaziabad, Faridabad, Delhi / NCR',\n",
       " 'Pune, Chennai, Bangalore/Bengaluru, Delhi / NCR, Mumbai (All Areas)',\n",
       " 'Gurgaon/Gurugram',\n",
       " 'Noida, Gurgaon/Gurugram, Delhi / NCR',\n",
       " 'Noida, New Delhi, Gurgaon/Gurugram',\n",
       " 'Noida',\n",
       " '(WFH during Covid)',\n",
       " 'Gurgaon/Gurugram',\n",
       " '(WFH during Covid)']"
      ]
     },
     "execution_count": 51,
     "metadata": {},
     "output_type": "execute_result"
    }
   ],
   "source": [
    "Loc"
   ]
  },
  {
   "cell_type": "code",
   "execution_count": 52,
   "metadata": {},
   "outputs": [],
   "source": [
    "#scrapping company\n",
    "comp=driver.find_elements_by_xpath(\"//a[@class='subTitle ellipsis fleft']\")\n",
    "for i in comp:\n",
    "    Comp.append(i.text)\n",
    "    Comp=Comp[:10]"
   ]
  },
  {
   "cell_type": "code",
   "execution_count": 53,
   "metadata": {},
   "outputs": [
    {
     "data": {
      "text/plain": [
       "['Creative Hands HR Consultancy',\n",
       " 'GABA Consultancy services',\n",
       " 'MOTHERSONSUMI INFOTECH & DESIGNS LIMITED',\n",
       " 'CARS24',\n",
       " 'GABA Consultancy services',\n",
       " 'GABA Consultancy services',\n",
       " 'R Systems International Ltd.',\n",
       " 'PROCESS NINE TECHNOLOGIES PVT.LTD.',\n",
       " 'Huquo Consulting Pvt. Ltd',\n",
       " 'PY Consultancy']"
      ]
     },
     "execution_count": 53,
     "metadata": {},
     "output_type": "execute_result"
    }
   ],
   "source": [
    "Comp"
   ]
  },
  {
   "cell_type": "code",
   "execution_count": 54,
   "metadata": {},
   "outputs": [],
   "source": [
    "#scrapping experience\n",
    "expe=driver.find_elements_by_xpath(\"//li[@class='fleft grey-text br2 placeHolderLi experience']/span\")\n",
    "for i in expe:\n",
    "    Exp.append(i.text)\n",
    "    Exp=Exp[:10]"
   ]
  },
  {
   "cell_type": "code",
   "execution_count": 55,
   "metadata": {},
   "outputs": [
    {
     "data": {
      "text/plain": [
       "['0-0 Yrs',\n",
       " '0-0 Yrs',\n",
       " '3-7 Yrs',\n",
       " '1-5 Yrs',\n",
       " '0-0 Yrs',\n",
       " '0-0 Yrs',\n",
       " '3-6 Yrs',\n",
       " '1-3 Yrs',\n",
       " '2-7 Yrs',\n",
       " '0-3 Yrs']"
      ]
     },
     "execution_count": 55,
     "metadata": {},
     "output_type": "execute_result"
    }
   ],
   "source": [
    "Exp"
   ]
  },
  {
   "cell_type": "markdown",
   "metadata": {},
   "source": [
    "5. Finally create a dataframe of the scraped data."
   ]
  },
  {
   "cell_type": "code",
   "execution_count": 56,
   "metadata": {},
   "outputs": [
    {
     "data": {
      "text/html": [
       "<div>\n",
       "<style scoped>\n",
       "    .dataframe tbody tr th:only-of-type {\n",
       "        vertical-align: middle;\n",
       "    }\n",
       "\n",
       "    .dataframe tbody tr th {\n",
       "        vertical-align: top;\n",
       "    }\n",
       "\n",
       "    .dataframe thead th {\n",
       "        text-align: right;\n",
       "    }\n",
       "</style>\n",
       "<table border=\"1\" class=\"dataframe\">\n",
       "  <thead>\n",
       "    <tr style=\"text-align: right;\">\n",
       "      <th></th>\n",
       "      <th>Job</th>\n",
       "      <th>Location</th>\n",
       "      <th>Company</th>\n",
       "      <th>Experience</th>\n",
       "    </tr>\n",
       "  </thead>\n",
       "  <tbody>\n",
       "    <tr>\n",
       "      <th>0</th>\n",
       "      <td>Data Scientist/ Machine Learning Engineer</td>\n",
       "      <td>Hyderabad/Secunderabad, Pune, Ahmedabad, Gurga...</td>\n",
       "      <td>Creative Hands HR Consultancy</td>\n",
       "      <td>0-0 Yrs</td>\n",
       "    </tr>\n",
       "    <tr>\n",
       "      <th>1</th>\n",
       "      <td>Data Scientist / Data Analyst / Business Analy...</td>\n",
       "      <td>Ghaziabad, Faridabad, Delhi / NCR</td>\n",
       "      <td>GABA Consultancy services</td>\n",
       "      <td>0-0 Yrs</td>\n",
       "    </tr>\n",
       "    <tr>\n",
       "      <th>2</th>\n",
       "      <td>Data Scientist - WFH - MIND Infotech</td>\n",
       "      <td>Pune, Chennai, Bangalore/Bengaluru, Delhi / NC...</td>\n",
       "      <td>MOTHERSONSUMI INFOTECH &amp; DESIGNS LIMITED</td>\n",
       "      <td>3-7 Yrs</td>\n",
       "    </tr>\n",
       "    <tr>\n",
       "      <th>3</th>\n",
       "      <td>Data Scientist / Data Analyst</td>\n",
       "      <td>Gurgaon/Gurugram</td>\n",
       "      <td>CARS24</td>\n",
       "      <td>1-5 Yrs</td>\n",
       "    </tr>\n",
       "    <tr>\n",
       "      <th>4</th>\n",
       "      <td>Only Fresher / Data Scientist / Data Analyst /...</td>\n",
       "      <td>Noida, Gurgaon/Gurugram, Delhi / NCR</td>\n",
       "      <td>GABA Consultancy services</td>\n",
       "      <td>0-0 Yrs</td>\n",
       "    </tr>\n",
       "    <tr>\n",
       "      <th>5</th>\n",
       "      <td>Data Scientist / Data Analyst / Business Analy...</td>\n",
       "      <td>Noida, New Delhi, Gurgaon/Gurugram</td>\n",
       "      <td>GABA Consultancy services</td>\n",
       "      <td>0-0 Yrs</td>\n",
       "    </tr>\n",
       "    <tr>\n",
       "      <th>6</th>\n",
       "      <td>Data Scientist</td>\n",
       "      <td>Noida</td>\n",
       "      <td>R Systems International Ltd.</td>\n",
       "      <td>3-6 Yrs</td>\n",
       "    </tr>\n",
       "    <tr>\n",
       "      <th>7</th>\n",
       "      <td>Data Scientist</td>\n",
       "      <td>(WFH during Covid)</td>\n",
       "      <td>PROCESS NINE TECHNOLOGIES PVT.LTD.</td>\n",
       "      <td>1-3 Yrs</td>\n",
       "    </tr>\n",
       "    <tr>\n",
       "      <th>8</th>\n",
       "      <td>Data Scientist - Insurance</td>\n",
       "      <td>Gurgaon/Gurugram</td>\n",
       "      <td>Huquo Consulting Pvt. Ltd</td>\n",
       "      <td>2-7 Yrs</td>\n",
       "    </tr>\n",
       "    <tr>\n",
       "      <th>9</th>\n",
       "      <td>Junior Data Scientists &amp; Engineers</td>\n",
       "      <td>(WFH during Covid)</td>\n",
       "      <td>PY Consultancy</td>\n",
       "      <td>0-3 Yrs</td>\n",
       "    </tr>\n",
       "  </tbody>\n",
       "</table>\n",
       "</div>"
      ],
      "text/plain": [
       "                                                 Job  \\\n",
       "0          Data Scientist/ Machine Learning Engineer   \n",
       "1  Data Scientist / Data Analyst / Business Analy...   \n",
       "2               Data Scientist - WFH - MIND Infotech   \n",
       "3                      Data Scientist / Data Analyst   \n",
       "4  Only Fresher / Data Scientist / Data Analyst /...   \n",
       "5  Data Scientist / Data Analyst / Business Analy...   \n",
       "6                                     Data Scientist   \n",
       "7                                     Data Scientist   \n",
       "8                         Data Scientist - Insurance   \n",
       "9                 Junior Data Scientists & Engineers   \n",
       "\n",
       "                                            Location  \\\n",
       "0  Hyderabad/Secunderabad, Pune, Ahmedabad, Gurga...   \n",
       "1                  Ghaziabad, Faridabad, Delhi / NCR   \n",
       "2  Pune, Chennai, Bangalore/Bengaluru, Delhi / NC...   \n",
       "3                                   Gurgaon/Gurugram   \n",
       "4               Noida, Gurgaon/Gurugram, Delhi / NCR   \n",
       "5                 Noida, New Delhi, Gurgaon/Gurugram   \n",
       "6                                              Noida   \n",
       "7                                 (WFH during Covid)   \n",
       "8                                   Gurgaon/Gurugram   \n",
       "9                                 (WFH during Covid)   \n",
       "\n",
       "                                    Company Experience  \n",
       "0             Creative Hands HR Consultancy    0-0 Yrs  \n",
       "1                 GABA Consultancy services    0-0 Yrs  \n",
       "2  MOTHERSONSUMI INFOTECH & DESIGNS LIMITED    3-7 Yrs  \n",
       "3                                    CARS24    1-5 Yrs  \n",
       "4                 GABA Consultancy services    0-0 Yrs  \n",
       "5                 GABA Consultancy services    0-0 Yrs  \n",
       "6              R Systems International Ltd.    3-6 Yrs  \n",
       "7        PROCESS NINE TECHNOLOGIES PVT.LTD.    1-3 Yrs  \n",
       "8                 Huquo Consulting Pvt. Ltd    2-7 Yrs  \n",
       "9                            PY Consultancy    0-3 Yrs  "
      ]
     },
     "execution_count": 56,
     "metadata": {},
     "output_type": "execute_result"
    }
   ],
   "source": [
    "Data_Scientist_Delhi={'Job':Job,'Location':Loc,\n",
    "              'Company':Comp,'Experience':Exp}\n",
    "Data_Scientist_Delhi=pd.DataFrame(data=Data_Scientist_Delhi)\n",
    "Data_Scientist_Delhi"
   ]
  },
  {
   "cell_type": "markdown",
   "metadata": {},
   "source": [
    "# Q: 4 Write a python program to scrape data for first 10 job results for Data scientist Designation in Noida location. You have to scrape company_name, No. of days ago when job was posted, Rating of the company."
   ]
  },
  {
   "cell_type": "code",
   "execution_count": null,
   "metadata": {},
   "outputs": [],
   "source": []
  },
  {
   "cell_type": "markdown",
   "metadata": {},
   "source": [
    "1. first get the webpage https://www.glassdoor.co.in/index.html"
   ]
  },
  {
   "cell_type": "code",
   "execution_count": 58,
   "metadata": {},
   "outputs": [],
   "source": [
    "driver= webdriver.Chrome(r\"C:\\Users\\Admin\\Downloads\\chromedriver_win32\\chromedriver.exe\")"
   ]
  },
  {
   "cell_type": "code",
   "execution_count": 65,
   "metadata": {},
   "outputs": [],
   "source": [
    "url='https://www.glassdoor.co.in/index.htm'\n",
    "driver.get(url)"
   ]
  },
  {
   "cell_type": "markdown",
   "metadata": {},
   "source": [
    "2. Enter “Data Scientist” in “Job Title,Keyword,Company” field and enter “Noida” in “location” field."
   ]
  },
  {
   "cell_type": "code",
   "execution_count": 66,
   "metadata": {},
   "outputs": [],
   "source": [
    "title_tag=driver.find_element_by_id('sc.keyword')\n",
    "title_tag.send_keys('Data Scientist')\n",
    "noida=driver.find_element_by_id('sc.location')\n",
    "noida.send_keys('Noida')"
   ]
  },
  {
   "cell_type": "code",
   "execution_count": 67,
   "metadata": {},
   "outputs": [],
   "source": [
    "search=driver.find_element_by_xpath(\"//span[@class='css-8zxfjs']\")\n",
    "search.click()"
   ]
  },
  {
   "cell_type": "markdown",
   "metadata": {},
   "source": [
    "4. Then scrape the data for the first 10 jobs results you get in the above shown page."
   ]
  },
  {
   "cell_type": "code",
   "execution_count": 68,
   "metadata": {},
   "outputs": [
    {
     "data": {
      "text/plain": [
       "['AlgoScale Technologies Private Limited',\n",
       " 'Liberin Technologies Private Limited',\n",
       " 'Lenskart',\n",
       " 'Grail Insights',\n",
       " 'Salasar New Age Technologies',\n",
       " 'Noisy Lion',\n",
       " 'Genpact',\n",
       " 'Techlive',\n",
       " 'Grail Insights',\n",
       " 'Ericsson',\n",
       " 'Salasar New Age Technologies',\n",
       " 'Newgen Software',\n",
       " 'IBM',\n",
       " 'Crowe',\n",
       " 'Biz2Credit Inc',\n",
       " 'SearchUrCollege',\n",
       " 'Monotype',\n",
       " 'limeroad.com',\n",
       " 'ING',\n",
       " 'NEC Opportunities',\n",
       " 'Ishatva Management Solutions',\n",
       " 'CRMNEXT',\n",
       " 'CSTEP',\n",
       " 'Airtel India',\n",
       " 'WishFin',\n",
       " 'Crypto Mize',\n",
       " 'xtLytics',\n",
       " '2COMs',\n",
       " 'Adobe',\n",
       " 'Emerging India Group']"
      ]
     },
     "execution_count": 68,
     "metadata": {},
     "output_type": "execute_result"
    }
   ],
   "source": [
    "title=driver.find_elements_by_xpath(\"//a[@class=' job-search-key-l2wjgv e1n63ojh0 jobLink']\")\n",
    "comp=[]\n",
    "for i in title:\n",
    "    comp.append(i.text)\n",
    "comp"
   ]
  },
  {
   "cell_type": "code",
   "execution_count": 69,
   "metadata": {
    "scrolled": true
   },
   "outputs": [
    {
     "data": {
      "text/plain": [
       "['19d',\n",
       " '30d+',\n",
       " '7d',\n",
       " '5d',\n",
       " '30d+',\n",
       " '4d',\n",
       " '6d',\n",
       " '30d+',\n",
       " '5d',\n",
       " '12d',\n",
       " '30d+',\n",
       " '30d+',\n",
       " '23d',\n",
       " '30d+',\n",
       " '30d+',\n",
       " '30d+',\n",
       " '4d',\n",
       " '19d',\n",
       " '10d',\n",
       " '26d',\n",
       " '14d',\n",
       " '30d+',\n",
       " '30d+',\n",
       " '24d',\n",
       " '30d+',\n",
       " '27d',\n",
       " '30d+',\n",
       " '21d',\n",
       " '10d',\n",
       " '30d+']"
      ]
     },
     "execution_count": 69,
     "metadata": {},
     "output_type": "execute_result"
    }
   ],
   "source": [
    "days=driver.find_elements_by_xpath(\"//div[@class='d-flex align-items-end pl-std css-17n8uzw']\")\n",
    "day=[]\n",
    "for i in days:\n",
    "    day.append(i.text)\n",
    "day"
   ]
  },
  {
   "cell_type": "markdown",
   "metadata": {},
   "source": [
    "As ratings is missing for some companies we use Excption Handling"
   ]
  },
  {
   "cell_type": "code",
   "execution_count": 72,
   "metadata": {},
   "outputs": [
    {
     "data": {
      "text/plain": [
       "['3.9',\n",
       " '3.6',\n",
       " '3.5',\n",
       " '3.9',\n",
       " '3.8',\n",
       " '3.5',\n",
       " '4.1',\n",
       " '3.3',\n",
       " '3.9',\n",
       " '3.8',\n",
       " '4.2',\n",
       " '3.9',\n",
       " '4.0',\n",
       " '3.7',\n",
       " '3.2',\n",
       " '3.8',\n",
       " '3.8',\n",
       " '5.0',\n",
       " '3.0',\n",
       " '3.8',\n",
       " '4.4',\n",
       " '2.4']"
      ]
     },
     "execution_count": 72,
     "metadata": {},
     "output_type": "execute_result"
    }
   ],
   "source": [
    "rating=driver.find_elements_by_xpath(\"//span[@class=' job-search-key-srfzj0 e1cjmv6j0']\")\n",
    "rate=[]\n",
    "for i in rating:\n",
    "    if i.text!='':\n",
    "        rate.append(i.text)\n",
    "    else:\n",
    "        rate.append('-')\n",
    "rate"
   ]
  },
  {
   "cell_type": "code",
   "execution_count": 73,
   "metadata": {},
   "outputs": [
    {
     "data": {
      "text/html": [
       "<div>\n",
       "<style scoped>\n",
       "    .dataframe tbody tr th:only-of-type {\n",
       "        vertical-align: middle;\n",
       "    }\n",
       "\n",
       "    .dataframe tbody tr th {\n",
       "        vertical-align: top;\n",
       "    }\n",
       "\n",
       "    .dataframe thead th {\n",
       "        text-align: right;\n",
       "    }\n",
       "</style>\n",
       "<table border=\"1\" class=\"dataframe\">\n",
       "  <thead>\n",
       "    <tr style=\"text-align: right;\">\n",
       "      <th></th>\n",
       "      <th>Company</th>\n",
       "      <th>Rating</th>\n",
       "      <th>NO. of days ago</th>\n",
       "    </tr>\n",
       "  </thead>\n",
       "  <tbody>\n",
       "    <tr>\n",
       "      <th>0</th>\n",
       "      <td>AlgoScale Technologies Private Limited</td>\n",
       "      <td>3.9</td>\n",
       "      <td>19d</td>\n",
       "    </tr>\n",
       "    <tr>\n",
       "      <th>1</th>\n",
       "      <td>Liberin Technologies Private Limited</td>\n",
       "      <td>3.6</td>\n",
       "      <td>30d+</td>\n",
       "    </tr>\n",
       "    <tr>\n",
       "      <th>2</th>\n",
       "      <td>Lenskart</td>\n",
       "      <td>3.5</td>\n",
       "      <td>7d</td>\n",
       "    </tr>\n",
       "    <tr>\n",
       "      <th>3</th>\n",
       "      <td>Grail Insights</td>\n",
       "      <td>3.9</td>\n",
       "      <td>5d</td>\n",
       "    </tr>\n",
       "    <tr>\n",
       "      <th>4</th>\n",
       "      <td>Salasar New Age Technologies</td>\n",
       "      <td>3.8</td>\n",
       "      <td>30d+</td>\n",
       "    </tr>\n",
       "    <tr>\n",
       "      <th>5</th>\n",
       "      <td>Noisy Lion</td>\n",
       "      <td>3.5</td>\n",
       "      <td>4d</td>\n",
       "    </tr>\n",
       "    <tr>\n",
       "      <th>6</th>\n",
       "      <td>Genpact</td>\n",
       "      <td>4.1</td>\n",
       "      <td>6d</td>\n",
       "    </tr>\n",
       "    <tr>\n",
       "      <th>7</th>\n",
       "      <td>Techlive</td>\n",
       "      <td>3.3</td>\n",
       "      <td>30d+</td>\n",
       "    </tr>\n",
       "    <tr>\n",
       "      <th>8</th>\n",
       "      <td>Grail Insights</td>\n",
       "      <td>3.9</td>\n",
       "      <td>5d</td>\n",
       "    </tr>\n",
       "    <tr>\n",
       "      <th>9</th>\n",
       "      <td>Ericsson</td>\n",
       "      <td>3.8</td>\n",
       "      <td>12d</td>\n",
       "    </tr>\n",
       "  </tbody>\n",
       "</table>\n",
       "</div>"
      ],
      "text/plain": [
       "                                  Company Rating NO. of days ago\n",
       "0  AlgoScale Technologies Private Limited    3.9             19d\n",
       "1    Liberin Technologies Private Limited    3.6            30d+\n",
       "2                                Lenskart    3.5              7d\n",
       "3                          Grail Insights    3.9              5d\n",
       "4            Salasar New Age Technologies    3.8            30d+\n",
       "5                              Noisy Lion    3.5              4d\n",
       "6                                 Genpact    4.1              6d\n",
       "7                                Techlive    3.3            30d+\n",
       "8                          Grail Insights    3.9              5d\n",
       "9                                Ericsson    3.8             12d"
      ]
     },
     "execution_count": 73,
     "metadata": {},
     "output_type": "execute_result"
    }
   ],
   "source": [
    "df=pd.DataFrame()\n",
    "df['Company']=comp[0:10]\n",
    "df['Rating']=rate[0:10]\n",
    "df['NO. of days ago']=day[0:10]\n",
    "df"
   ]
  },
  {
   "cell_type": "markdown",
   "metadata": {},
   "source": [
    "# Q5: Write a python program to scrape the salary data for Data Scientist designation in Noida location.\n",
    "You have to scrape Company name, Number of salaries, Average salary, Min salary, Max Salary."
   ]
  },
  {
   "cell_type": "markdown",
   "metadata": {},
   "source": [
    "1. first get the webpage https://www.glassdoor.co.in/Salaries/index.htm\n",
    "2. Enter “Data Scientist” in Job title field and “Noida” in location field.\n",
    "3. Click the search button.\n",
    "5. Scrape data for first 10 companies. Scrape the min salary, max salary, company\n",
    "name, Average salary and rating of the company.\n",
    "6.Store the data in a dataframe."
   ]
  },
  {
   "cell_type": "code",
   "execution_count": 107,
   "metadata": {},
   "outputs": [],
   "source": [
    "url='https://www.glassdoor.co.in/Salaries/index.htm'\n",
    "driver.get(url)"
   ]
  },
  {
   "cell_type": "markdown",
   "metadata": {},
   "source": [
    "2. Enter “Data Scientist” in Job title field and “Noida” in location field."
   ]
  },
  {
   "cell_type": "code",
   "execution_count": 108,
   "metadata": {},
   "outputs": [],
   "source": [
    "driver.find_element_by_xpath(\"//input[@name='sc.keyword']\").send_keys('Data Scientist')"
   ]
  },
  {
   "cell_type": "code",
   "execution_count": 109,
   "metadata": {},
   "outputs": [],
   "source": [
    "driver.find_element_by_xpath(\"//input[@id='LocationSearch']\").clear()\n",
    "driver.find_element_by_xpath(\"//input[@id='LocationSearch']\").send_keys('Noida')"
   ]
  },
  {
   "cell_type": "code",
   "execution_count": 110,
   "metadata": {},
   "outputs": [],
   "source": [
    "driver.find_element_by_xpath(\"//button[@class='gd-btn-mkt']\").click()"
   ]
  },
  {
   "cell_type": "code",
   "execution_count": 116,
   "metadata": {},
   "outputs": [
    {
     "data": {
      "text/plain": [
       "[<selenium.webdriver.remote.webelement.WebElement (session=\"7b2a1769f90640fe11569e5e903df73e\", element=\"a8377908-0cd5-419f-8f50-c7dea50b01cb\")>,\n",
       " <selenium.webdriver.remote.webelement.WebElement (session=\"7b2a1769f90640fe11569e5e903df73e\", element=\"fc323f34-8aca-4cc3-ae5c-764266ee2d9f\")>,\n",
       " <selenium.webdriver.remote.webelement.WebElement (session=\"7b2a1769f90640fe11569e5e903df73e\", element=\"b18ba2be-fbc9-4596-ab75-3e108539a441\")>,\n",
       " <selenium.webdriver.remote.webelement.WebElement (session=\"7b2a1769f90640fe11569e5e903df73e\", element=\"e5600174-82cf-4cc3-bdaa-4974a7fc11f8\")>,\n",
       " <selenium.webdriver.remote.webelement.WebElement (session=\"7b2a1769f90640fe11569e5e903df73e\", element=\"f7cc8b7c-26e7-4c7f-b494-338f5ac792d7\")>,\n",
       " <selenium.webdriver.remote.webelement.WebElement (session=\"7b2a1769f90640fe11569e5e903df73e\", element=\"fdacde48-ecb7-4802-8488-93478b09f3f0\")>,\n",
       " <selenium.webdriver.remote.webelement.WebElement (session=\"7b2a1769f90640fe11569e5e903df73e\", element=\"eef31e11-5b25-4f88-b8e6-14341651de30\")>,\n",
       " <selenium.webdriver.remote.webelement.WebElement (session=\"7b2a1769f90640fe11569e5e903df73e\", element=\"0245b5ac-b2d8-4c92-a203-6a193ab68669\")>,\n",
       " <selenium.webdriver.remote.webelement.WebElement (session=\"7b2a1769f90640fe11569e5e903df73e\", element=\"c5f405e4-3481-4976-9910-a431e3b80015\")>,\n",
       " <selenium.webdriver.remote.webelement.WebElement (session=\"7b2a1769f90640fe11569e5e903df73e\", element=\"cee56e3f-85f5-416a-8b1e-e034ab9e3d50\")>,\n",
       " <selenium.webdriver.remote.webelement.WebElement (session=\"7b2a1769f90640fe11569e5e903df73e\", element=\"db3e51c4-133f-480c-8ba4-d4a5b1d0320d\")>,\n",
       " <selenium.webdriver.remote.webelement.WebElement (session=\"7b2a1769f90640fe11569e5e903df73e\", element=\"573d0f4d-cba2-4fe4-ac2e-689e19866c64\")>,\n",
       " <selenium.webdriver.remote.webelement.WebElement (session=\"7b2a1769f90640fe11569e5e903df73e\", element=\"83027018-80ef-4a07-a8d6-c72e323bf468\")>,\n",
       " <selenium.webdriver.remote.webelement.WebElement (session=\"7b2a1769f90640fe11569e5e903df73e\", element=\"5456e0ab-3a29-4780-be31-f8d2a8b36493\")>,\n",
       " <selenium.webdriver.remote.webelement.WebElement (session=\"7b2a1769f90640fe11569e5e903df73e\", element=\"57e42b4f-3747-4c1f-a980-1af8232d64fe\")>,\n",
       " <selenium.webdriver.remote.webelement.WebElement (session=\"7b2a1769f90640fe11569e5e903df73e\", element=\"cb27ac63-06d9-4901-b060-6c75bc4d23fd\")>,\n",
       " <selenium.webdriver.remote.webelement.WebElement (session=\"7b2a1769f90640fe11569e5e903df73e\", element=\"dde8ecee-1372-4d8d-9f57-3282351db861\")>,\n",
       " <selenium.webdriver.remote.webelement.WebElement (session=\"7b2a1769f90640fe11569e5e903df73e\", element=\"520d4e41-86c6-41cc-809b-f53b750bfa24\")>,\n",
       " <selenium.webdriver.remote.webelement.WebElement (session=\"7b2a1769f90640fe11569e5e903df73e\", element=\"29c23547-0456-4212-9e89-094d3f5bb8fd\")>,\n",
       " <selenium.webdriver.remote.webelement.WebElement (session=\"7b2a1769f90640fe11569e5e903df73e\", element=\"76c6ee45-1c19-471f-8f97-0f1a6bfe1565\")>]"
      ]
     },
     "execution_count": 116,
     "metadata": {},
     "output_type": "execute_result"
    }
   ],
   "source": [
    "title_tags=driver.find_elements_by_xpath(\"//a[@class='css-f3vw95 e1aj7ssy3']\")\n",
    "title_tags"
   ]
  },
  {
   "cell_type": "code",
   "execution_count": 117,
   "metadata": {},
   "outputs": [
    {
     "data": {
      "text/plain": [
       "['Tata Consultancy Services',\n",
       " 'IBM',\n",
       " 'Accenture',\n",
       " 'Delhivery',\n",
       " 'Ericsson-Worldwide',\n",
       " 'UnitedHealth Group',\n",
       " 'Optum',\n",
       " 'Optum Global Solutions',\n",
       " 'Valiance Solutions',\n",
       " 'EXL Service',\n",
       " 'Cognizant Technology Solutions',\n",
       " 'ZS Associates',\n",
       " 'Nagarro',\n",
       " 'Innovaccer',\n",
       " 'OYO',\n",
       " 'dunnhumby',\n",
       " 'Amazon',\n",
       " 'Fresher',\n",
       " 'CARS24.com',\n",
       " 'Vidooly Media Tech']"
      ]
     },
     "execution_count": 117,
     "metadata": {},
     "output_type": "execute_result"
    }
   ],
   "source": [
    "Company_names=[]\n",
    "\n",
    "for i in title_tags:\n",
    "    Company_names.append(i.text.replace(\"\\n\", \" \"))\n",
    "        \n",
    "Company_names"
   ]
  },
  {
   "cell_type": "code",
   "execution_count": 118,
   "metadata": {},
   "outputs": [
    {
     "data": {
      "text/plain": [
       "[<selenium.webdriver.remote.webelement.WebElement (session=\"7b2a1769f90640fe11569e5e903df73e\", element=\"875558bd-a810-49c3-8094-6ae68511db03\")>,\n",
       " <selenium.webdriver.remote.webelement.WebElement (session=\"7b2a1769f90640fe11569e5e903df73e\", element=\"649639fd-2ae7-4ba7-9208-e417c84ea4e6\")>,\n",
       " <selenium.webdriver.remote.webelement.WebElement (session=\"7b2a1769f90640fe11569e5e903df73e\", element=\"a11d71d7-0584-461c-bc2e-568c0eeb77a2\")>,\n",
       " <selenium.webdriver.remote.webelement.WebElement (session=\"7b2a1769f90640fe11569e5e903df73e\", element=\"3d53abbd-1abd-484b-aedf-0e437ec52db8\")>,\n",
       " <selenium.webdriver.remote.webelement.WebElement (session=\"7b2a1769f90640fe11569e5e903df73e\", element=\"60755ea3-6af9-4a7d-8a5d-8914b54dcac7\")>,\n",
       " <selenium.webdriver.remote.webelement.WebElement (session=\"7b2a1769f90640fe11569e5e903df73e\", element=\"a16584ef-1dbe-4d69-9a90-96e7d3ae3e32\")>,\n",
       " <selenium.webdriver.remote.webelement.WebElement (session=\"7b2a1769f90640fe11569e5e903df73e\", element=\"7ab147a8-6cf5-43a9-8a15-041c09563753\")>,\n",
       " <selenium.webdriver.remote.webelement.WebElement (session=\"7b2a1769f90640fe11569e5e903df73e\", element=\"2509cfff-03b5-4d48-abb6-a5e4a91e56aa\")>,\n",
       " <selenium.webdriver.remote.webelement.WebElement (session=\"7b2a1769f90640fe11569e5e903df73e\", element=\"9eef867f-d1c9-4279-8662-bd373e534a74\")>,\n",
       " <selenium.webdriver.remote.webelement.WebElement (session=\"7b2a1769f90640fe11569e5e903df73e\", element=\"54169372-ca88-41e2-94f6-49ec811f7802\")>,\n",
       " <selenium.webdriver.remote.webelement.WebElement (session=\"7b2a1769f90640fe11569e5e903df73e\", element=\"4f9affd2-b65a-45fd-a946-d0d25466a5fb\")>,\n",
       " <selenium.webdriver.remote.webelement.WebElement (session=\"7b2a1769f90640fe11569e5e903df73e\", element=\"4b50dccf-ec95-417e-aee9-ce226a389801\")>,\n",
       " <selenium.webdriver.remote.webelement.WebElement (session=\"7b2a1769f90640fe11569e5e903df73e\", element=\"173521a1-4f09-46bb-897c-df3415bb68b8\")>,\n",
       " <selenium.webdriver.remote.webelement.WebElement (session=\"7b2a1769f90640fe11569e5e903df73e\", element=\"4fb57723-bd46-47cc-8879-58382af4bf23\")>,\n",
       " <selenium.webdriver.remote.webelement.WebElement (session=\"7b2a1769f90640fe11569e5e903df73e\", element=\"d54d82bd-5ccc-4896-b8fa-10984eea1b4b\")>,\n",
       " <selenium.webdriver.remote.webelement.WebElement (session=\"7b2a1769f90640fe11569e5e903df73e\", element=\"22f6a8a8-8f77-47e3-adc2-aff4c45e5fdb\")>,\n",
       " <selenium.webdriver.remote.webelement.WebElement (session=\"7b2a1769f90640fe11569e5e903df73e\", element=\"41f570c5-b621-492c-9110-7a727ea56db2\")>,\n",
       " <selenium.webdriver.remote.webelement.WebElement (session=\"7b2a1769f90640fe11569e5e903df73e\", element=\"8dde3c68-50a6-4a85-8052-5ddcd05aa7d1\")>,\n",
       " <selenium.webdriver.remote.webelement.WebElement (session=\"7b2a1769f90640fe11569e5e903df73e\", element=\"31d2dd89-5216-4520-81f9-efae0322af97\")>,\n",
       " <selenium.webdriver.remote.webelement.WebElement (session=\"7b2a1769f90640fe11569e5e903df73e\", element=\"ec27be66-27e8-49a4-b66d-f483cf9e9980\")>]"
      ]
     },
     "execution_count": 118,
     "metadata": {},
     "output_type": "execute_result"
    }
   ],
   "source": [
    "No_of_Salary= driver.find_elements_by_xpath(\"//div[@class='col-12 col-lg-auto']//span\")\n",
    "No_of_Salary"
   ]
  },
  {
   "cell_type": "code",
   "execution_count": 119,
   "metadata": {},
   "outputs": [
    {
     "data": {
      "text/plain": [
       "['22 salaries',\n",
       " '20 salaries',\n",
       " '15 salaries',\n",
       " '15 salaries',\n",
       " '14 salaries',\n",
       " '14 salaries',\n",
       " '11 salaries',\n",
       " '10 salaries',\n",
       " '10 salaries',\n",
       " '9 salaries',\n",
       " '8 salaries',\n",
       " '8 salaries',\n",
       " '8 salaries',\n",
       " '8 salaries',\n",
       " '7 salaries',\n",
       " '7 salaries',\n",
       " '6 salaries',\n",
       " '6 salaries',\n",
       " '6 salaries',\n",
       " '6 salaries']"
      ]
     },
     "execution_count": 119,
     "metadata": {},
     "output_type": "execute_result"
    }
   ],
   "source": [
    "No_of_salaries=[]\n",
    "for i in No_of_Salary:\n",
    "    No_of_salaries.append(i.text)\n",
    "No_of_salaries"
   ]
  },
  {
   "cell_type": "code",
   "execution_count": 120,
   "metadata": {},
   "outputs": [
    {
     "data": {
      "text/plain": [
       "[<selenium.webdriver.remote.webelement.WebElement (session=\"7b2a1769f90640fe11569e5e903df73e\", element=\"aaa36e59-77b2-4267-8054-de87dc1421f2\")>,\n",
       " <selenium.webdriver.remote.webelement.WebElement (session=\"7b2a1769f90640fe11569e5e903df73e\", element=\"ab8e15f1-b04a-4d58-ab8c-3f98a6ce628c\")>,\n",
       " <selenium.webdriver.remote.webelement.WebElement (session=\"7b2a1769f90640fe11569e5e903df73e\", element=\"8dee8342-40fa-49f2-b65f-88ba0b9d727e\")>,\n",
       " <selenium.webdriver.remote.webelement.WebElement (session=\"7b2a1769f90640fe11569e5e903df73e\", element=\"cbc90f0f-e90b-42c7-8010-408dc9bff8a4\")>,\n",
       " <selenium.webdriver.remote.webelement.WebElement (session=\"7b2a1769f90640fe11569e5e903df73e\", element=\"ac85ac15-dfbe-48e4-8bc2-20d90a49cdff\")>,\n",
       " <selenium.webdriver.remote.webelement.WebElement (session=\"7b2a1769f90640fe11569e5e903df73e\", element=\"6bf417fd-8244-4a9b-a7bf-e6b742441fd4\")>,\n",
       " <selenium.webdriver.remote.webelement.WebElement (session=\"7b2a1769f90640fe11569e5e903df73e\", element=\"0523cbfd-2dfb-4302-8542-123fb35245cb\")>,\n",
       " <selenium.webdriver.remote.webelement.WebElement (session=\"7b2a1769f90640fe11569e5e903df73e\", element=\"73f29146-1bb2-4f4b-8cd6-a5aa766c0b3a\")>,\n",
       " <selenium.webdriver.remote.webelement.WebElement (session=\"7b2a1769f90640fe11569e5e903df73e\", element=\"f460be1d-e268-4539-b20c-2bc6e931f42e\")>,\n",
       " <selenium.webdriver.remote.webelement.WebElement (session=\"7b2a1769f90640fe11569e5e903df73e\", element=\"272bed7c-e2d4-4779-8b7e-63e42d0c9ab5\")>,\n",
       " <selenium.webdriver.remote.webelement.WebElement (session=\"7b2a1769f90640fe11569e5e903df73e\", element=\"20bea2f1-f016-4d6d-a01c-d6c97f644473\")>,\n",
       " <selenium.webdriver.remote.webelement.WebElement (session=\"7b2a1769f90640fe11569e5e903df73e\", element=\"ffcbfa92-2e2a-46f7-b86f-85a417a75280\")>,\n",
       " <selenium.webdriver.remote.webelement.WebElement (session=\"7b2a1769f90640fe11569e5e903df73e\", element=\"2cb9f0ca-f62b-489a-881e-38a86b11a13d\")>,\n",
       " <selenium.webdriver.remote.webelement.WebElement (session=\"7b2a1769f90640fe11569e5e903df73e\", element=\"40866800-a740-46fd-b8d3-b67bdafd3bd2\")>,\n",
       " <selenium.webdriver.remote.webelement.WebElement (session=\"7b2a1769f90640fe11569e5e903df73e\", element=\"b5057c50-cbca-4ecd-b2f1-05c96ffd2eb7\")>,\n",
       " <selenium.webdriver.remote.webelement.WebElement (session=\"7b2a1769f90640fe11569e5e903df73e\", element=\"2b9f9426-577c-4fe1-be32-9a7d6431c27a\")>,\n",
       " <selenium.webdriver.remote.webelement.WebElement (session=\"7b2a1769f90640fe11569e5e903df73e\", element=\"7e596dda-5e3f-45f7-89b1-d53295fbfa05\")>,\n",
       " <selenium.webdriver.remote.webelement.WebElement (session=\"7b2a1769f90640fe11569e5e903df73e\", element=\"22b820f0-889e-4fad-a8fc-1fdc8b91e21a\")>,\n",
       " <selenium.webdriver.remote.webelement.WebElement (session=\"7b2a1769f90640fe11569e5e903df73e\", element=\"e897ee37-25a5-4848-b505-67575d466b93\")>,\n",
       " <selenium.webdriver.remote.webelement.WebElement (session=\"7b2a1769f90640fe11569e5e903df73e\", element=\"c3b797be-83ca-4e04-bf29-6eaade6a5a94\")>]"
      ]
     },
     "execution_count": 120,
     "metadata": {},
     "output_type": "execute_result"
    }
   ],
   "source": [
    "average_salary= driver.find_elements_by_xpath(\"//div[@class='col-12 col-lg-4 px-lg-0 d-flex align-items-baseline']//h3\")\n",
    "average_salary"
   ]
  },
  {
   "cell_type": "code",
   "execution_count": 121,
   "metadata": {},
   "outputs": [
    {
     "data": {
      "text/plain": [
       "['₹6,28,021',\n",
       " '₹9,08,246',\n",
       " '₹11,93,390',\n",
       " '₹12,49,716',\n",
       " '₹7,58,335',\n",
       " '₹12,80,000',\n",
       " '₹12,70,000',\n",
       " '₹14,55,430',\n",
       " '₹8,86,064',\n",
       " '₹11,10,000',\n",
       " '₹9,62,227',\n",
       " '₹11,71,868',\n",
       " '₹11,01,815',\n",
       " '₹12,40,275',\n",
       " '₹14,51,902',\n",
       " '₹11,30,374',\n",
       " '₹20,63,782',\n",
       " '₹61,566',\n",
       " '₹10,80,727',\n",
       " '₹35,040']"
      ]
     },
     "execution_count": 121,
     "metadata": {},
     "output_type": "execute_result"
    }
   ],
   "source": [
    "Average_salaries=[]\n",
    "for i in average_salary:\n",
    "    Average_salaries.append(i.text)\n",
    "Average_salaries"
   ]
  },
  {
   "cell_type": "code",
   "execution_count": 124,
   "metadata": {},
   "outputs": [
    {
     "data": {
      "text/plain": [
       "[<selenium.webdriver.remote.webelement.WebElement (session=\"7b2a1769f90640fe11569e5e903df73e\", element=\"77fcfd6f-479f-4375-949a-2fba3e0888e3\")>,\n",
       " <selenium.webdriver.remote.webelement.WebElement (session=\"7b2a1769f90640fe11569e5e903df73e\", element=\"96e0c360-23b8-4cb9-9021-a0e44c3f8c6c\")>,\n",
       " <selenium.webdriver.remote.webelement.WebElement (session=\"7b2a1769f90640fe11569e5e903df73e\", element=\"c3a46630-eea5-4012-a277-bcad06dfeecd\")>,\n",
       " <selenium.webdriver.remote.webelement.WebElement (session=\"7b2a1769f90640fe11569e5e903df73e\", element=\"f970bfc4-757f-44d7-993a-8111e7217c3c\")>,\n",
       " <selenium.webdriver.remote.webelement.WebElement (session=\"7b2a1769f90640fe11569e5e903df73e\", element=\"dedc9f6f-746c-4d41-826c-f0d81eabd76c\")>,\n",
       " <selenium.webdriver.remote.webelement.WebElement (session=\"7b2a1769f90640fe11569e5e903df73e\", element=\"51b8ef79-9014-4940-826a-f1977c4a69b3\")>,\n",
       " <selenium.webdriver.remote.webelement.WebElement (session=\"7b2a1769f90640fe11569e5e903df73e\", element=\"ba1e1854-3c6f-49ed-b699-ba0ded737517\")>,\n",
       " <selenium.webdriver.remote.webelement.WebElement (session=\"7b2a1769f90640fe11569e5e903df73e\", element=\"55da969f-2799-49c7-b84a-465b1ccfc5a9\")>,\n",
       " <selenium.webdriver.remote.webelement.WebElement (session=\"7b2a1769f90640fe11569e5e903df73e\", element=\"d1d4b0ff-9760-4ac2-a68e-69e37f551a85\")>,\n",
       " <selenium.webdriver.remote.webelement.WebElement (session=\"7b2a1769f90640fe11569e5e903df73e\", element=\"b550be64-eb27-4f50-b501-26bbafa350b0\")>,\n",
       " <selenium.webdriver.remote.webelement.WebElement (session=\"7b2a1769f90640fe11569e5e903df73e\", element=\"fe9e025f-d585-4ad9-980f-11276220a8ba\")>,\n",
       " <selenium.webdriver.remote.webelement.WebElement (session=\"7b2a1769f90640fe11569e5e903df73e\", element=\"50dd1dff-6684-49dc-a56b-549e625cc082\")>,\n",
       " <selenium.webdriver.remote.webelement.WebElement (session=\"7b2a1769f90640fe11569e5e903df73e\", element=\"f765acc5-6de4-4782-a49b-a7ec2a59fb2b\")>,\n",
       " <selenium.webdriver.remote.webelement.WebElement (session=\"7b2a1769f90640fe11569e5e903df73e\", element=\"a94dbee4-655f-4f7e-a9f0-b9ffee83ea8e\")>,\n",
       " <selenium.webdriver.remote.webelement.WebElement (session=\"7b2a1769f90640fe11569e5e903df73e\", element=\"bcaa91ba-17ca-47e9-8ef6-f785cfd4dcae\")>,\n",
       " <selenium.webdriver.remote.webelement.WebElement (session=\"7b2a1769f90640fe11569e5e903df73e\", element=\"2a6c517f-43fd-419f-a960-1a053d32c81e\")>,\n",
       " <selenium.webdriver.remote.webelement.WebElement (session=\"7b2a1769f90640fe11569e5e903df73e\", element=\"3f4c74ed-fbe7-4448-bae9-776cd13d0de6\")>,\n",
       " <selenium.webdriver.remote.webelement.WebElement (session=\"7b2a1769f90640fe11569e5e903df73e\", element=\"9e132f01-b17b-4a6f-985f-c828ba4b7434\")>,\n",
       " <selenium.webdriver.remote.webelement.WebElement (session=\"7b2a1769f90640fe11569e5e903df73e\", element=\"8c15907b-835c-44ec-b5af-f6f4622a4ce6\")>,\n",
       " <selenium.webdriver.remote.webelement.WebElement (session=\"7b2a1769f90640fe11569e5e903df73e\", element=\"0bc04868-d6b7-4f7a-9090-962c437fa2da\")>]"
      ]
     },
     "execution_count": 124,
     "metadata": {},
     "output_type": "execute_result"
    }
   ],
   "source": [
    "full_salary=driver.find_elements_by_xpath(\"//div[@class='d-flex mt-xxsm css-79elbk epuxyqn0']\")\n",
    "full_salary"
   ]
  },
  {
   "cell_type": "code",
   "execution_count": 126,
   "metadata": {},
   "outputs": [
    {
     "data": {
      "text/plain": [
       "['₹4L-₹13L',\n",
       " '₹1L-₹28L',\n",
       " '₹6L-₹23L',\n",
       " '₹5L-₹1Cr',\n",
       " '₹4L-₹17L',\n",
       " '₹8L-₹16L',\n",
       " '₹8L-₹20L',\n",
       " '₹10L-₹18L',\n",
       " '₹5L-₹15L',\n",
       " '₹6L-₹16L',\n",
       " '₹4L-₹13L',\n",
       " '₹2L-₹19L',\n",
       " '₹4L-₹21L',\n",
       " '₹6L-₹17L',\n",
       " '₹10L-₹21L',\n",
       " '₹8L-₹21L',\n",
       " '₹10L-₹30L',\n",
       " '₹25T-₹1L',\n",
       " '₹9L-₹15L',\n",
       " '₹12T-₹64T']"
      ]
     },
     "execution_count": 126,
     "metadata": {},
     "output_type": "execute_result"
    }
   ],
   "source": [
    "full_salaries=[]\n",
    "for i in full_salary:\n",
    "    full_salaries.append(i.text.replace('\\n','-'))\n",
    "full_salaries"
   ]
  },
  {
   "cell_type": "code",
   "execution_count": null,
   "metadata": {},
   "outputs": [],
   "source": []
  },
  {
   "cell_type": "code",
   "execution_count": null,
   "metadata": {},
   "outputs": [],
   "source": []
  },
  {
   "cell_type": "code",
   "execution_count": null,
   "metadata": {},
   "outputs": [],
   "source": []
  },
  {
   "cell_type": "code",
   "execution_count": null,
   "metadata": {},
   "outputs": [],
   "source": []
  },
  {
   "cell_type": "code",
   "execution_count": null,
   "metadata": {},
   "outputs": [],
   "source": []
  },
  {
   "cell_type": "code",
   "execution_count": null,
   "metadata": {},
   "outputs": [],
   "source": []
  },
  {
   "cell_type": "markdown",
   "metadata": {},
   "source": [
    "# Q6 : Scrape data of first 100 sunglasses listings on flipkart.com. You have to scrape four attributes:\n",
    "Brand\n",
    "\n",
    "Product Description\n",
    "\n",
    "Price\n",
    "\n",
    "Discount %"
   ]
  },
  {
   "cell_type": "code",
   "execution_count": null,
   "metadata": {},
   "outputs": [],
   "source": [
    "driver= webdriver.Chrome(r\"C:\\Users\\Admin\\Downloads\\chromedriver_win32\\chromedriver.exe\")"
   ]
  },
  {
   "cell_type": "code",
   "execution_count": 127,
   "metadata": {},
   "outputs": [],
   "source": [
    "url='https://www.flipkart.com/'\n",
    "driver.get(url)"
   ]
  },
  {
   "cell_type": "markdown",
   "metadata": {},
   "source": [
    "Scrapping the Data of 100 Sunglasses"
   ]
  },
  {
   "cell_type": "code",
   "execution_count": 129,
   "metadata": {},
   "outputs": [],
   "source": [
    "b=[]\n",
    "pdis=[]\n",
    "pr=[]\n",
    "dis=[]"
   ]
  },
  {
   "cell_type": "code",
   "execution_count": 130,
   "metadata": {},
   "outputs": [],
   "source": [
    "driver.find_element_by_xpath(\"//input[@class='_3704LK']\").send_keys('sunglasses')\n",
    "driver.find_element_by_xpath(\"//button[@class='L0Z3Pu']\").click()"
   ]
  },
  {
   "cell_type": "code",
   "execution_count": 131,
   "metadata": {},
   "outputs": [
    {
     "data": {
      "text/html": [
       "<div>\n",
       "<style scoped>\n",
       "    .dataframe tbody tr th:only-of-type {\n",
       "        vertical-align: middle;\n",
       "    }\n",
       "\n",
       "    .dataframe tbody tr th {\n",
       "        vertical-align: top;\n",
       "    }\n",
       "\n",
       "    .dataframe thead th {\n",
       "        text-align: right;\n",
       "    }\n",
       "</style>\n",
       "<table border=\"1\" class=\"dataframe\">\n",
       "  <thead>\n",
       "    <tr style=\"text-align: right;\">\n",
       "      <th></th>\n",
       "      <th>Brand</th>\n",
       "      <th>Description</th>\n",
       "      <th>Price</th>\n",
       "      <th>Discount</th>\n",
       "    </tr>\n",
       "  </thead>\n",
       "  <tbody>\n",
       "    <tr>\n",
       "      <th>0</th>\n",
       "      <td>kingsunglasses</td>\n",
       "      <td>Mirrored, UV Protection Wayfarer Sunglasses (F...</td>\n",
       "      <td>₹284</td>\n",
       "      <td>89% off</td>\n",
       "    </tr>\n",
       "    <tr>\n",
       "      <th>1</th>\n",
       "      <td>Elligator</td>\n",
       "      <td>UV Protection Round Sunglasses (54)</td>\n",
       "      <td>₹295</td>\n",
       "      <td>88% off</td>\n",
       "    </tr>\n",
       "    <tr>\n",
       "      <th>2</th>\n",
       "      <td>SHAAH COLLECTIONS</td>\n",
       "      <td>UV Protection, Polarized, Mirrored Rectangular...</td>\n",
       "      <td>₹198</td>\n",
       "      <td>88% off</td>\n",
       "    </tr>\n",
       "    <tr>\n",
       "      <th>3</th>\n",
       "      <td>ROZZETTA CRAFT</td>\n",
       "      <td>UV Protection, Gradient Rectangular Sunglasses...</td>\n",
       "      <td>₹404</td>\n",
       "      <td>79% off</td>\n",
       "    </tr>\n",
       "    <tr>\n",
       "      <th>4</th>\n",
       "      <td>Fastrack</td>\n",
       "      <td>UV Protection Wayfarer Sunglasses (56)</td>\n",
       "      <td>₹633</td>\n",
       "      <td>29% off</td>\n",
       "    </tr>\n",
       "    <tr>\n",
       "      <th>...</th>\n",
       "      <td>...</td>\n",
       "      <td>...</td>\n",
       "      <td>...</td>\n",
       "      <td>...</td>\n",
       "    </tr>\n",
       "    <tr>\n",
       "      <th>95</th>\n",
       "      <td>PIRASO</td>\n",
       "      <td>UV Protection Aviator Sunglasses (54)</td>\n",
       "      <td>₹237</td>\n",
       "      <td>85% off</td>\n",
       "    </tr>\n",
       "    <tr>\n",
       "      <th>96</th>\n",
       "      <td>povty</td>\n",
       "      <td>UV Protection Wayfarer Sunglasses (Free Size)</td>\n",
       "      <td>₹349</td>\n",
       "      <td>65% off</td>\n",
       "    </tr>\n",
       "    <tr>\n",
       "      <th>97</th>\n",
       "      <td>ROZZETTA CRAFT</td>\n",
       "      <td>UV Protection, Riding Glasses Rectangular Sung...</td>\n",
       "      <td>₹449</td>\n",
       "      <td>79% off</td>\n",
       "    </tr>\n",
       "    <tr>\n",
       "      <th>98</th>\n",
       "      <td>DEIXELS</td>\n",
       "      <td>UV Protection Aviator, Wayfarer Sunglasses (Fr...</td>\n",
       "      <td>₹202</td>\n",
       "      <td>83% off</td>\n",
       "    </tr>\n",
       "    <tr>\n",
       "      <th>99</th>\n",
       "      <td>ROYAL SON</td>\n",
       "      <td>Mirrored Aviator Sunglasses (55)</td>\n",
       "      <td>₹379</td>\n",
       "      <td>74% off</td>\n",
       "    </tr>\n",
       "  </tbody>\n",
       "</table>\n",
       "<p>100 rows × 4 columns</p>\n",
       "</div>"
      ],
      "text/plain": [
       "                Brand                                        Description  \\\n",
       "0      kingsunglasses  Mirrored, UV Protection Wayfarer Sunglasses (F...   \n",
       "1           Elligator                UV Protection Round Sunglasses (54)   \n",
       "2   SHAAH COLLECTIONS  UV Protection, Polarized, Mirrored Rectangular...   \n",
       "3      ROZZETTA CRAFT  UV Protection, Gradient Rectangular Sunglasses...   \n",
       "4            Fastrack             UV Protection Wayfarer Sunglasses (56)   \n",
       "..                ...                                                ...   \n",
       "95             PIRASO              UV Protection Aviator Sunglasses (54)   \n",
       "96              povty      UV Protection Wayfarer Sunglasses (Free Size)   \n",
       "97     ROZZETTA CRAFT  UV Protection, Riding Glasses Rectangular Sung...   \n",
       "98            DEIXELS  UV Protection Aviator, Wayfarer Sunglasses (Fr...   \n",
       "99          ROYAL SON                   Mirrored Aviator Sunglasses (55)   \n",
       "\n",
       "   Price Discount  \n",
       "0   ₹284  89% off  \n",
       "1   ₹295  88% off  \n",
       "2   ₹198  88% off  \n",
       "3   ₹404  79% off  \n",
       "4   ₹633  29% off  \n",
       "..   ...      ...  \n",
       "95  ₹237  85% off  \n",
       "96  ₹349  65% off  \n",
       "97  ₹449  79% off  \n",
       "98  ₹202  83% off  \n",
       "99  ₹379  74% off  \n",
       "\n",
       "[100 rows x 4 columns]"
      ]
     },
     "execution_count": 131,
     "metadata": {},
     "output_type": "execute_result"
    }
   ],
   "source": [
    "#scrapping the brand name\n",
    "for i in range(0,3):\n",
    "    for j in driver.find_elements_by_xpath(\"//div[@class='_2WkVRV']\"):\n",
    "        b.append(j.text)\n",
    "        b=b[:100]\n",
    "        \n",
    "#scrapping the product description\n",
    "    for j in driver.find_elements_by_xpath(\"//a[@class='IRpwTa']\"):\n",
    "        pdis.append(j.text)\n",
    "        pdis=pdis[:100]\n",
    "\n",
    "#scrapping the product price\n",
    "    for j in driver.find_elements_by_xpath(\"//div[@class='_30jeq3']\"):\n",
    "        pr.append(j.text)\n",
    "        pr=pr[:100]\n",
    "\n",
    "#scrapping the product discount\n",
    "    for j in driver.find_elements_by_xpath(\"//div[@class='_3Ay6Sb']\"):\n",
    "        dis.append(j.text)\n",
    "        dis=dis[:100]\n",
    "\n",
    "#clicking on the next page\n",
    "    driver.find_element_by_xpath(\"//a[@class='_1LKTO3']\").click()\n",
    "    time.sleep(2)\n",
    "\n",
    "#creating the dataframe\n",
    "Flipkart_Sun={'Brand':b,'Description':pdis,'Price':pr,'Discount':dis}\n",
    "Flipkart_Sun=pd.DataFrame(data=Flipkart_Sun)\n",
    "Flipkart_Sun"
   ]
  },
  {
   "cell_type": "markdown",
   "metadata": {},
   "source": [
    "# Q7:Scrape 100 reviews data from flipkart.com for iphone11 phone. You have to go the link: flipkart.com/apple-iphone-11-black-64-gb-includes-earpods-power-adapter/p/itm0f37c2240b217?pid=MOBFKCTSVZAXUHGR&lid=LSTMOBFKCTSVZAXUHGREPBFGI&marketplace."
   ]
  },
  {
   "cell_type": "markdown",
   "metadata": {},
   "source": [
    "As shown in the above page you have to scrape the tick marked attributes.\n",
    "These are\n",
    "\n",
    "Rating\n",
    "\n",
    "Review_summary\n",
    "\n",
    "Full review You have to scrape this data for first 100 reviews."
   ]
  },
  {
   "cell_type": "code",
   "execution_count": 132,
   "metadata": {},
   "outputs": [],
   "source": [
    "driver.get('https://www.flipkart.com/apple-iphone-11-black-64-gb-includes-earpods-power-adapter/p/itm0f37c2240b217?pid=MOBFKCTSVZAXUHGR&lid=LSTMOBFKCTSVZAXUHGREPBFGI&marketplace.')"
   ]
  },
  {
   "cell_type": "code",
   "execution_count": 133,
   "metadata": {},
   "outputs": [],
   "source": [
    "driver.find_element_by_xpath(\"//div[@class='_3UAT2v _16PBlm']\").click()"
   ]
  },
  {
   "cell_type": "code",
   "execution_count": 134,
   "metadata": {},
   "outputs": [
    {
     "data": {
      "text/html": [
       "<div>\n",
       "<style scoped>\n",
       "    .dataframe tbody tr th:only-of-type {\n",
       "        vertical-align: middle;\n",
       "    }\n",
       "\n",
       "    .dataframe tbody tr th {\n",
       "        vertical-align: top;\n",
       "    }\n",
       "\n",
       "    .dataframe thead th {\n",
       "        text-align: right;\n",
       "    }\n",
       "</style>\n",
       "<table border=\"1\" class=\"dataframe\">\n",
       "  <thead>\n",
       "    <tr style=\"text-align: right;\">\n",
       "      <th></th>\n",
       "      <th>Rating</th>\n",
       "      <th>Review Summary</th>\n",
       "      <th>Full Review</th>\n",
       "    </tr>\n",
       "  </thead>\n",
       "  <tbody>\n",
       "    <tr>\n",
       "      <th>0</th>\n",
       "      <td>5</td>\n",
       "      <td>Brilliant</td>\n",
       "      <td>The Best Phone for the Money\\n\\nThe iPhone 11 ...</td>\n",
       "    </tr>\n",
       "    <tr>\n",
       "      <th>1</th>\n",
       "      <td>5</td>\n",
       "      <td>Simply awesome</td>\n",
       "      <td>Really satisfied with the Product I received.....</td>\n",
       "    </tr>\n",
       "    <tr>\n",
       "      <th>2</th>\n",
       "      <td>5</td>\n",
       "      <td>Best in the market!</td>\n",
       "      <td>Great iPhone very snappy experience as apple k...</td>\n",
       "    </tr>\n",
       "    <tr>\n",
       "      <th>3</th>\n",
       "      <td>5</td>\n",
       "      <td>Perfect product!</td>\n",
       "      <td>Amazing phone with great cameras and better ba...</td>\n",
       "    </tr>\n",
       "    <tr>\n",
       "      <th>4</th>\n",
       "      <td>5</td>\n",
       "      <td>Fabulous!</td>\n",
       "      <td>This is my first iOS phone. I am very happy wi...</td>\n",
       "    </tr>\n",
       "    <tr>\n",
       "      <th>...</th>\n",
       "      <td>...</td>\n",
       "      <td>...</td>\n",
       "      <td>...</td>\n",
       "    </tr>\n",
       "    <tr>\n",
       "      <th>95</th>\n",
       "      <td>5</td>\n",
       "      <td>Worth every penny</td>\n",
       "      <td>Previously I was using one plus 3t it was a gr...</td>\n",
       "    </tr>\n",
       "    <tr>\n",
       "      <th>96</th>\n",
       "      <td>5</td>\n",
       "      <td>Great product</td>\n",
       "      <td>Amazing Powerful and Durable Gadget.\\n\\nI’m am...</td>\n",
       "    </tr>\n",
       "    <tr>\n",
       "      <th>97</th>\n",
       "      <td>4</td>\n",
       "      <td>Good choice</td>\n",
       "      <td>So far it’s been an AMAZING experience coming ...</td>\n",
       "    </tr>\n",
       "    <tr>\n",
       "      <th>98</th>\n",
       "      <td>5</td>\n",
       "      <td>Worth every penny</td>\n",
       "      <td>i11 is worthy to buy, too much happy with the ...</td>\n",
       "    </tr>\n",
       "    <tr>\n",
       "      <th>99</th>\n",
       "      <td>5</td>\n",
       "      <td>Highly recommended</td>\n",
       "      <td>iphone 11 is a very good phone to buy only if ...</td>\n",
       "    </tr>\n",
       "  </tbody>\n",
       "</table>\n",
       "<p>100 rows × 3 columns</p>\n",
       "</div>"
      ],
      "text/plain": [
       "   Rating       Review Summary  \\\n",
       "0       5            Brilliant   \n",
       "1       5       Simply awesome   \n",
       "2       5  Best in the market!   \n",
       "3       5     Perfect product!   \n",
       "4       5            Fabulous!   \n",
       "..    ...                  ...   \n",
       "95      5    Worth every penny   \n",
       "96      5        Great product   \n",
       "97      4          Good choice   \n",
       "98      5    Worth every penny   \n",
       "99      5   Highly recommended   \n",
       "\n",
       "                                          Full Review  \n",
       "0   The Best Phone for the Money\\n\\nThe iPhone 11 ...  \n",
       "1   Really satisfied with the Product I received.....  \n",
       "2   Great iPhone very snappy experience as apple k...  \n",
       "3   Amazing phone with great cameras and better ba...  \n",
       "4   This is my first iOS phone. I am very happy wi...  \n",
       "..                                                ...  \n",
       "95  Previously I was using one plus 3t it was a gr...  \n",
       "96  Amazing Powerful and Durable Gadget.\\n\\nI’m am...  \n",
       "97  So far it’s been an AMAZING experience coming ...  \n",
       "98  i11 is worthy to buy, too much happy with the ...  \n",
       "99  iphone 11 is a very good phone to buy only if ...  \n",
       "\n",
       "[100 rows x 3 columns]"
      ]
     },
     "execution_count": 134,
     "metadata": {},
     "output_type": "execute_result"
    }
   ],
   "source": [
    "#Creating the empty list to store the data\n",
    "\n",
    "rating=[]\n",
    "summ=[]\n",
    "full=[]\n",
    "\n",
    "for i in range(0,11):\n",
    "    \n",
    "    #scrapping the rating\n",
    "    for j in driver.find_elements_by_xpath(\"//div[@class='_3LWZlK _1BLPMq']\"):\n",
    "        rating.append(j.text)\n",
    "        rating=rating[:100]\n",
    "    \n",
    "    #scrapping the sunn\n",
    "    for j in driver.find_elements_by_xpath(\"//p[@class='_2-N8zT']\"):\n",
    "        summ.append(j.text)\n",
    "        summ=summ[:100]\n",
    "\n",
    "    #scrapping the full review\n",
    "    for j in driver.find_elements_by_xpath(\"//div[@class='t-ZTKy']\"):\n",
    "        full.append(j.text)\n",
    "        full=full[:100]\n",
    "\n",
    "#creating the dataframe\n",
    "iphone_reviews={'Rating':rating,'Review Summary':summ,'Full Review':full}\n",
    "iphone_reviews=pd.DataFrame(data=iphone_reviews)\n",
    "iphone_reviews"
   ]
  },
  {
   "cell_type": "markdown",
   "metadata": {},
   "source": [
    "# Q8: Scrape data for first 100 sneakers you find when you visit flipkart.com and\n",
    "search for “sneakers” in the search field.\n",
    "You have to scrape 4 attributes of each sneaker :\n",
    "1. Brand\n",
    "2. Product Description\n",
    "3. Price\n",
    "4. discount %"
   ]
  },
  {
   "cell_type": "code",
   "execution_count": 135,
   "metadata": {},
   "outputs": [],
   "source": [
    "url = 'https://www.flipkart.com' \n",
    "driver.get(url)"
   ]
  },
  {
   "cell_type": "code",
   "execution_count": 137,
   "metadata": {},
   "outputs": [],
   "source": [
    "driver.find_element_by_xpath(\"//input[@class='_3704LK']\").send_keys('sneakers')"
   ]
  },
  {
   "cell_type": "code",
   "execution_count": 140,
   "metadata": {},
   "outputs": [],
   "source": [
    "driver.find_element_by_xpath(\"//button[@class='L0Z3Pu']\").click()"
   ]
  },
  {
   "cell_type": "code",
   "execution_count": 142,
   "metadata": {},
   "outputs": [],
   "source": [
    "brand = []\n",
    "desc = []\n",
    "price = []\n",
    "disc = []\n",
    "brand_tag = driver.find_elements_by_xpath(\"//div[@class='_2WkVRV']\")\n",
    "price_tag = driver.find_elements_by_xpath(\"//div[@class='_30jeq3']\")\n",
    "disc_tag = driver.find_elements_by_xpath(\"//div[@class='_3Ay6Sb']//span\")\n",
    "desc_tag = driver.find_elements_by_xpath(\"//a[@class='IRpwTa']\")\n",
    "for b in brand_tag:\n",
    "   brand.append(b.text)\n",
    "for d in desc_tag :\n",
    "   desc.append(d.text)\n",
    "for p in price_tag:\n",
    "   price.append(p.text)\n",
    "for c in disc_tag:\n",
    "   disc.append(c.text)"
   ]
  },
  {
   "cell_type": "code",
   "execution_count": 143,
   "metadata": {},
   "outputs": [],
   "source": [
    "import time \n",
    "\n",
    "\n",
    "i=0\n",
    "nextbtn = driver.find_element_by_class_name('_1LKTO3')\n",
    "while(i<2):\n",
    "    try:\n",
    "        nextbtn.click()\n",
    "    except:\n",
    "        pass\n",
    "    time.sleep(3) #to allow the page to load completely before scraping.\n",
    "    brand_tag = driver.find_elements_by_xpath(\"//div[@class='_2WkVRV']\")\n",
    "    price_tag = driver.find_elements_by_xpath(\"//div[@class='_30jeq3']\")\n",
    "    disc_tag = driver.find_elements_by_xpath(\"//div[@class='_3Ay6Sb']//span\")\n",
    "    desc_tag = driver.find_elements_by_xpath(\"//a[@class='IRpwTa']\")\n",
    "    \n",
    "    for b in brand_tag:\n",
    "        try:\n",
    "            brand.append(b.text)\n",
    "        except:\n",
    "            pass\n",
    "    \n",
    "    for d in desc_tag :\n",
    "        try:\n",
    "            desc.append(d.text)\n",
    "        except:\n",
    "            pass\n",
    "    \n",
    "    for p in price_tag:\n",
    "        try:\n",
    "            price.append(p.text)\n",
    "        except:\n",
    "            pass\n",
    "    for c in disc_tag:\n",
    "        try:\n",
    "            disc.append(c.text)\n",
    "        except:\n",
    "            pass\n",
    "\n",
    "    \n",
    "    if 'inactive' in nextbtn.get_attribute('class'):\n",
    "        break;\n",
    "    \n",
    "    i=i+1"
   ]
  },
  {
   "cell_type": "code",
   "execution_count": 144,
   "metadata": {},
   "outputs": [
    {
     "data": {
      "text/html": [
       "<div>\n",
       "<style scoped>\n",
       "    .dataframe tbody tr th:only-of-type {\n",
       "        vertical-align: middle;\n",
       "    }\n",
       "\n",
       "    .dataframe tbody tr th {\n",
       "        vertical-align: top;\n",
       "    }\n",
       "\n",
       "    .dataframe thead th {\n",
       "        text-align: right;\n",
       "    }\n",
       "</style>\n",
       "<table border=\"1\" class=\"dataframe\">\n",
       "  <thead>\n",
       "    <tr style=\"text-align: right;\">\n",
       "      <th></th>\n",
       "      <th>Brand Name</th>\n",
       "      <th>Price(₹)</th>\n",
       "      <th>Discount</th>\n",
       "      <th>Description</th>\n",
       "    </tr>\n",
       "  </thead>\n",
       "  <tbody>\n",
       "    <tr>\n",
       "      <th>1</th>\n",
       "      <td>ESSENCE</td>\n",
       "      <td>₹463</td>\n",
       "      <td>53% off</td>\n",
       "      <td>Black Money Sneakers For Men</td>\n",
       "    </tr>\n",
       "    <tr>\n",
       "      <th>2</th>\n",
       "      <td>tigonis</td>\n",
       "      <td>₹449</td>\n",
       "      <td>55% off</td>\n",
       "      <td>Luxury Branded Fashionable Men's Casual Walkin...</td>\n",
       "    </tr>\n",
       "    <tr>\n",
       "      <th>3</th>\n",
       "      <td>Magnolia</td>\n",
       "      <td>₹356</td>\n",
       "      <td>64% off</td>\n",
       "      <td>Sneakers For Men</td>\n",
       "    </tr>\n",
       "    <tr>\n",
       "      <th>4</th>\n",
       "      <td>BRUTON</td>\n",
       "      <td>₹474</td>\n",
       "      <td>86% off</td>\n",
       "      <td>Combo Pack Of 4 Casual Shoes Loafer Shoes Snea...</td>\n",
       "    </tr>\n",
       "    <tr>\n",
       "      <th>5</th>\n",
       "      <td>Longwalk</td>\n",
       "      <td>₹236</td>\n",
       "      <td>52% off</td>\n",
       "      <td>Men Boxer Sneakers For Men</td>\n",
       "    </tr>\n",
       "    <tr>\n",
       "      <th>...</th>\n",
       "      <td>...</td>\n",
       "      <td>...</td>\n",
       "      <td>...</td>\n",
       "      <td>...</td>\n",
       "    </tr>\n",
       "    <tr>\n",
       "      <th>96</th>\n",
       "      <td>Red Rose</td>\n",
       "      <td>₹379</td>\n",
       "      <td>24% off</td>\n",
       "      <td>Casual Sneakers Sneakers For Men</td>\n",
       "    </tr>\n",
       "    <tr>\n",
       "      <th>97</th>\n",
       "      <td>ADIDAS</td>\n",
       "      <td>₹2,279</td>\n",
       "      <td>36% off</td>\n",
       "      <td>Casual Sneakers White Shoes For Men And Boys S...</td>\n",
       "    </tr>\n",
       "    <tr>\n",
       "      <th>98</th>\n",
       "      <td>HOTSTYLE</td>\n",
       "      <td>₹611</td>\n",
       "      <td>59% off</td>\n",
       "      <td>SM-322 Sneakers For Men</td>\n",
       "    </tr>\n",
       "    <tr>\n",
       "      <th>99</th>\n",
       "      <td>PUMA</td>\n",
       "      <td>₹1,959</td>\n",
       "      <td>44% off</td>\n",
       "      <td>Hip Hop Mid Perf IDP Sneakers For Men</td>\n",
       "    </tr>\n",
       "    <tr>\n",
       "      <th>100</th>\n",
       "      <td>U.S. POLO ASSN.</td>\n",
       "      <td>₹2,652</td>\n",
       "      <td>33% off</td>\n",
       "      <td>Combo Men Pack of 2 Loafers Shoes Sneakers For...</td>\n",
       "    </tr>\n",
       "  </tbody>\n",
       "</table>\n",
       "<p>100 rows × 4 columns</p>\n",
       "</div>"
      ],
      "text/plain": [
       "          Brand Name Price(₹) Discount  \\\n",
       "1            ESSENCE     ₹463  53% off   \n",
       "2            tigonis     ₹449  55% off   \n",
       "3           Magnolia     ₹356  64% off   \n",
       "4             BRUTON     ₹474  86% off   \n",
       "5           Longwalk     ₹236  52% off   \n",
       "..               ...      ...      ...   \n",
       "96          Red Rose     ₹379  24% off   \n",
       "97            ADIDAS   ₹2,279  36% off   \n",
       "98          HOTSTYLE     ₹611  59% off   \n",
       "99              PUMA   ₹1,959  44% off   \n",
       "100  U.S. POLO ASSN.   ₹2,652  33% off   \n",
       "\n",
       "                                           Description  \n",
       "1                         Black Money Sneakers For Men  \n",
       "2    Luxury Branded Fashionable Men's Casual Walkin...  \n",
       "3                                     Sneakers For Men  \n",
       "4    Combo Pack Of 4 Casual Shoes Loafer Shoes Snea...  \n",
       "5                           Men Boxer Sneakers For Men  \n",
       "..                                                 ...  \n",
       "96                    Casual Sneakers Sneakers For Men  \n",
       "97   Casual Sneakers White Shoes For Men And Boys S...  \n",
       "98                             SM-322 Sneakers For Men  \n",
       "99               Hip Hop Mid Perf IDP Sneakers For Men  \n",
       "100  Combo Men Pack of 2 Loafers Shoes Sneakers For...  \n",
       "\n",
       "[100 rows x 4 columns]"
      ]
     },
     "execution_count": 144,
     "metadata": {},
     "output_type": "execute_result"
    }
   ],
   "source": [
    "SneakersDF = pd.DataFrame({\"Brand Name\":brand[0:100],\"Price(₹)\":price[0:100],\"Discount\":disc[0:100],\"Description\":desc[0:100],})\n",
    "SneakersDF.reset_index(drop=True,inplace = True)\n",
    "SneakersDF.index+= 1\n",
    "SneakersDF.shape\n",
    "\n",
    "SneakersDF"
   ]
  },
  {
   "cell_type": "markdown",
   "metadata": {},
   "source": [
    "# Q9: Go to the link - https://www.myntra.com/shoes\n",
    "        \n",
    "Set Price filter to “Rs. 6649 to Rs. 13099” , Color filter to “Black”,And then scrape First 100 shoes data you get. The data should include “Brand” of the shoes , Short Shoe description, price of the shoe."
   ]
  },
  {
   "cell_type": "code",
   "execution_count": 145,
   "metadata": {},
   "outputs": [],
   "source": [
    "url='https://www.myntra.com/shoes'\n",
    "driver.get(url)"
   ]
  },
  {
   "cell_type": "code",
   "execution_count": 146,
   "metadata": {},
   "outputs": [],
   "source": [
    "search_btn=driver.find_elements_by_xpath(\"//li[@class ='colour-listItem']//label[@class ='common-customCheckbox']/div[@class = 'common-checkboxIndicator']\")\n",
    "search_btn[0].click()"
   ]
  },
  {
   "cell_type": "code",
   "execution_count": 147,
   "metadata": {},
   "outputs": [],
   "source": [
    "search_btn=driver.find_elements_by_xpath(\"//ul[@class ='price-list']//label[@class ='common-customCheckbox vertical-filters-label']/div[@class = 'common-checkboxIndicator']\")\n",
    "search_btn[1].click()"
   ]
  },
  {
   "cell_type": "code",
   "execution_count": 148,
   "metadata": {},
   "outputs": [
    {
     "data": {
      "text/plain": [
       "['https://www.myntra.com/shoes?f=Color%3ABlack_36454f&plaEnabled=false&rf=Price%3A6935.0_13621.0_6935.0%20TO%2013621.0&p=2',\n",
       " 'https://www.myntra.com/shoes?f=Color%3ABlack_36454f&plaEnabled=false&rf=Price%3A6935.0_13621.0_6935.0%20TO%2013621.0&p=3']"
      ]
     },
     "execution_count": 148,
     "metadata": {},
     "output_type": "execute_result"
    }
   ],
   "source": [
    "page_url=[]\n",
    "url = driver.find_elements_by_xpath(\"//li[@class='pagination-number']//a\")[:2]\n",
    "for i in url:\n",
    "    page_url.append(i.get_attribute('href'))\n",
    "page_url"
   ]
  },
  {
   "cell_type": "code",
   "execution_count": 149,
   "metadata": {},
   "outputs": [
    {
     "data": {
      "text/plain": [
       "['Puma',\n",
       " 'Geox',\n",
       " 'ROSSO BRUNELLO',\n",
       " 'PUMA Motorsport',\n",
       " 'Puma',\n",
       " 'PUMA Motorsport',\n",
       " 'ROSSO BRUNELLO',\n",
       " 'Saint G',\n",
       " 'RARE RABBIT',\n",
       " 'ASICS',\n",
       " 'J.FONTINI',\n",
       " 'Saint G',\n",
       " 'Heel & Buckle London',\n",
       " 'UNDER ARMOUR',\n",
       " 'KIPRUN By Decathlon',\n",
       " 'Puma',\n",
       " 'PUMA Motorsport',\n",
       " 'Puma',\n",
       " 'Puma',\n",
       " 'Heel & Buckle London',\n",
       " 'Cole Haan',\n",
       " 'Cole Haan',\n",
       " 'Cole Haan',\n",
       " 'VIONIC',\n",
       " 'J.FONTINI',\n",
       " 'J.FONTINI',\n",
       " 'Kalenji By Decathlon',\n",
       " 'Puma',\n",
       " 'PUMA Motorsport',\n",
       " 'Nike',\n",
       " 'Geox',\n",
       " 'Puma',\n",
       " 'ASICS',\n",
       " 'ASICS',\n",
       " 'Heel & Buckle London',\n",
       " 'ASICS',\n",
       " 'Bugatti',\n",
       " 'Bugatti',\n",
       " 'Heel & Buckle London',\n",
       " 'Saint G',\n",
       " 'Saint G',\n",
       " 'Saint G',\n",
       " 'Kenneth Cole',\n",
       " 'Heel & Buckle London',\n",
       " 'Geox',\n",
       " 'J.FONTINI',\n",
       " 'Geox',\n",
       " 'Cole Haan',\n",
       " 'Geox',\n",
       " 'Geox',\n",
       " 'Florsheim',\n",
       " 'Tommy Hilfiger',\n",
       " 'Heel & Buckle London',\n",
       " 'Ruosh',\n",
       " 'Heel & Buckle London',\n",
       " 'PUMA Motorsport',\n",
       " 'Puma',\n",
       " 'Puma',\n",
       " 'Puma',\n",
       " 'ASICS',\n",
       " 'J.FONTINI',\n",
       " 'Nike',\n",
       " 'J.FONTINI',\n",
       " 'J.FONTINI',\n",
       " 'Nike',\n",
       " 'Heel & Buckle London',\n",
       " 'Kenneth Cole',\n",
       " 'J.FONTINI',\n",
       " 'Kenneth Cole',\n",
       " 'Nike',\n",
       " 'Saint G',\n",
       " 'Nike',\n",
       " 'Nike',\n",
       " 'Nike',\n",
       " 'Geox',\n",
       " 'Geox',\n",
       " 'Geox',\n",
       " 'ASICS',\n",
       " 'DAVINCHI',\n",
       " 'Sole To Soul',\n",
       " 'DAVINCHI',\n",
       " 'Sole To Soul',\n",
       " 'Sole To Soul',\n",
       " 'Saint G',\n",
       " 'J.FONTINI',\n",
       " 'DAVINCHI',\n",
       " 'Geox',\n",
       " 'J.FONTINI',\n",
       " 'Tommy Hilfiger',\n",
       " 'DAVINCHI',\n",
       " 'DAVINCHI',\n",
       " 'PUMA Motorsport',\n",
       " 'DAVINCHI',\n",
       " 'Cole Haan',\n",
       " 'UNDER ARMOUR',\n",
       " 'Clarks',\n",
       " 'Puma',\n",
       " 'ADIDAS',\n",
       " 'Florsheim',\n",
       " 'Puma']"
      ]
     },
     "execution_count": 149,
     "metadata": {},
     "output_type": "execute_result"
    }
   ],
   "source": [
    "product_brands=[]\n",
    "for i in page_url:\n",
    "    driver.get(i)\n",
    "    brand=driver.find_elements_by_xpath(\"//h3[@class='product-brand']\")[:100]\n",
    "    for i in brand:\n",
    "        product_brands.append(i.text)\n",
    "product_brands"
   ]
  },
  {
   "cell_type": "code",
   "execution_count": 150,
   "metadata": {},
   "outputs": [
    {
     "data": {
      "text/plain": [
       "['Women Charged Bandit 6 Running',\n",
       " 'Unisex Leather Trainers',\n",
       " 'Scuderia Ferrari A3ROCAT Shoes',\n",
       " 'Unisex Colourblocked Sneakers',\n",
       " 'Mercedes F1 Drift Cat Shoes',\n",
       " 'Men Solid Leather Formal Monk Shoes',\n",
       " 'Leather Block Sandals',\n",
       " 'Men Black Leather Loafers',\n",
       " 'Women GlideRide Running Shoes',\n",
       " 'Men Solid Leather Formal Derbys',\n",
       " 'Men Printed Slip-On Sneakers',\n",
       " 'Women Leather Heeled Boots',\n",
       " 'Women Solid Leather Gladiators',\n",
       " 'Women Charged Breathe CLR SFT',\n",
       " 'Women Running Shoes',\n",
       " 'Women RS-Curve City Sneakers',\n",
       " 'Women BMW M Motorsport Shoes',\n",
       " 'Women Liberate NITRO Running',\n",
       " 'Women Fuse Moto Training Shoes',\n",
       " 'Men Leather Sneakers',\n",
       " 'Men Wingtip Oxford Sneakers',\n",
       " 'Men GENERATION ZEROGRAND STITCHLITE',\n",
       " 'Leather Sneakers',\n",
       " 'Men Textured Sneakers',\n",
       " 'Men Textured Leather Loafers',\n",
       " 'Men Textured Leather Loafers',\n",
       " 'Men KD500 Running Shoe',\n",
       " 'Men Running Shoes',\n",
       " 'Unisex BMW MMS RS-FastSneakers',\n",
       " 'Women Air Zoom Running Shoes',\n",
       " 'Men Leather Formal Slip-Ons',\n",
       " 'Men Jamming 2.0 Running Shoes',\n",
       " 'Men Tennis Shoes',\n",
       " 'Men Black Running Sports Shoes',\n",
       " 'Men Tassel Leather Loafer',\n",
       " 'Men GEL-GLYDE 3 MX Running',\n",
       " 'Men Black Walking Shoes',\n",
       " 'Men Walking Shoes',\n",
       " 'Women Solid Leather Heels',\n",
       " 'Women Heeled Boots',\n",
       " 'Women Leather Heeled Boots',\n",
       " 'Women Leather Heeled Boots',\n",
       " 'Women Leather Pumps',\n",
       " 'Women Peep Toe Heels',\n",
       " 'Men Leather Formal Slip-Ons',\n",
       " 'Men Textured Leather Loafers',\n",
       " 'Men Solid Sneakers',\n",
       " 'Women Open Toe Flats',\n",
       " 'Men Leather Flat Boots',\n",
       " 'Men Leather Driving Shoes',\n",
       " 'Men Solid Leather Formal Derbys',\n",
       " 'Men Suede Sneakers',\n",
       " 'Men Solid Leather Formal Monks',\n",
       " 'Men Leather Formal Loafers',\n",
       " 'Women Leather Pumps',\n",
       " 'Unisex Mercedes F1 Sneakers',\n",
       " 'Unisex Mirage Sport Trainers',\n",
       " 'Unisex KING Pro Football Shoes',\n",
       " 'Unisex Pacer Future Sneakers',\n",
       " 'Men Gel-Excite Trail Running',\n",
       " 'Men Solid Leather Formal Slip-Ons',\n",
       " 'Men ZOOM SPAN 3 Running Shoes',\n",
       " 'Men Solid Leather Formal Slip-Ons',\n",
       " 'Men Leather Formal Loafers',\n",
       " 'Men Vomero 16 Running Shoes',\n",
       " 'Men Solid Leather Formal Penny Loafers',\n",
       " 'Men Leather Formal Loafers',\n",
       " 'Women LeatherSneakers',\n",
       " 'Women Solid Flat Boots',\n",
       " 'Men Zoom Winflo 8 Shoes',\n",
       " 'Leather Block Peep Toes',\n",
       " 'Men AIR MAX INFINITY Sneakers',\n",
       " 'Men Air Max Infinity 2 Shoes',\n",
       " 'Men Air Max Infinity 2 Sneaker',\n",
       " 'Leather Heeled Boots',\n",
       " 'Leather Heeled Boots',\n",
       " 'Leather Heeled Boots',\n",
       " 'Men Gel-Pulse13 G-TX Running',\n",
       " 'Ustraa black',\n",
       " 'Women Block Heeled Boots',\n",
       " 'Men Formal Leather Slip-Ons',\n",
       " 'Platform Peep Toes with Buckles',\n",
       " 'Block Heeled Boots with Laser Cuts',\n",
       " 'Women Embellished Sandals',\n",
       " 'Men Solid Leather Shoes',\n",
       " 'Women Mid-Top Flat Boots',\n",
       " 'Men Textured Formal Leather Loafers',\n",
       " 'Men Textured Leather Formal Loafers',\n",
       " 'Women Hybrid Leather Sneakers',\n",
       " 'Men Textured Formal Leather Loafers',\n",
       " 'Men Solid Formal Leather Slip-On Shoes',\n",
       " 'Women F1 Ridge Cat Sneakers',\n",
       " 'Men Solid Leather Formal Derbys',\n",
       " 'Women Leather Sneakers',\n",
       " 'HOVR Infinite 2 Running Shoes',\n",
       " 'Men Leather Loafers',\n",
       " 'Unisex Colourblocked Sneakers',\n",
       " 'Men Kaptir Super Sneakers',\n",
       " 'Men Solid Leather Formal Brogues',\n",
       " 'Unisex Rebound Future Trainers']"
      ]
     },
     "execution_count": 150,
     "metadata": {},
     "output_type": "execute_result"
    }
   ],
   "source": [
    "description=[]\n",
    "for i in page_url:\n",
    "    driver.get(i)\n",
    "    descrip=driver.find_elements_by_xpath(\"//h4[@class='product-product']\")[:100]\n",
    "    for i in descrip:\n",
    "        description.append(i.text)\n",
    "description"
   ]
  },
  {
   "cell_type": "code",
   "execution_count": 151,
   "metadata": {},
   "outputs": [
    {
     "data": {
      "text/plain": [
       "['Rs. 7999',\n",
       " 'Rs. 6999',\n",
       " 'Rs. 7999',\n",
       " 'Rs. 12999',\n",
       " 'Rs. 8490',\n",
       " 'Rs. 10999',\n",
       " 'Rs. 10355Rs. 10900(5% OFF)',\n",
       " 'Rs. 11199Rs. 13999(20% OFF)',\n",
       " 'Rs. 9999',\n",
       " 'Rs. 6990',\n",
       " 'Rs. 7600',\n",
       " 'Rs. 11999',\n",
       " 'Rs. 6993Rs. 9990(30% OFF)',\n",
       " 'Rs. 7999',\n",
       " 'Rs. 7006Rs. 7149(2% OFF)',\n",
       " 'Rs. 6999',\n",
       " 'Rs. 6999',\n",
       " 'Rs. 9999',\n",
       " 'Rs. 7999',\n",
       " 'Rs. 7693Rs. 10990(30% OFF)',\n",
       " 'Rs. 12999',\n",
       " 'Rs. 11999',\n",
       " 'Rs. 10999',\n",
       " 'Rs. 7039Rs. 10999(36% OFF)',\n",
       " 'Rs. 7990',\n",
       " 'Rs. 7990',\n",
       " 'Rs. 7773Rs. 8449(8% OFF)',\n",
       " 'Rs. 12999',\n",
       " 'Rs. 7999Rs. 9999(20% OFF)',\n",
       " 'Rs. 10295',\n",
       " 'Rs. 8999',\n",
       " 'Rs. 12999',\n",
       " 'Rs. 9999',\n",
       " 'Rs. 7999',\n",
       " 'Rs. 9093Rs. 12990(30% OFF)',\n",
       " 'Rs. 8999',\n",
       " 'Rs. 8999',\n",
       " 'Rs. 8999',\n",
       " 'Rs. 6993Rs. 9990(30% OFF)',\n",
       " 'Rs. 8000',\n",
       " 'Rs. 8500',\n",
       " 'Rs. 8900',\n",
       " 'Rs. 10493Rs. 14990(30% OFF)',\n",
       " 'Rs. 7192Rs. 8990(20% OFF)',\n",
       " 'Rs. 11242Rs. 14990(25% OFF)',\n",
       " 'Rs. 6990',\n",
       " 'Rs. 10999',\n",
       " 'Rs. 11999',\n",
       " 'Rs. 11999',\n",
       " 'Rs. 9999',\n",
       " 'Rs. 6995',\n",
       " 'Rs. 7599',\n",
       " 'Rs. 8990',\n",
       " 'Rs. 7992Rs. 9990(20% OFF)',\n",
       " 'Rs. 7192Rs. 8990(20% OFF)',\n",
       " 'Rs. 7999',\n",
       " 'Rs. 8999',\n",
       " 'Rs. 8499Rs. 9999(15% OFF)',\n",
       " 'Rs. 6999',\n",
       " 'Rs. 6999',\n",
       " 'Rs. 7990',\n",
       " 'Rs. 7195',\n",
       " 'Rs. 7990',\n",
       " 'Rs. 6990',\n",
       " 'Rs. 13495',\n",
       " 'Rs. 8792Rs. 10990(20% OFF)',\n",
       " 'Rs. 6990',\n",
       " 'Rs. 7343Rs. 10490(30% OFF)',\n",
       " 'Rs. 9513Rs. 13590(30% OFF)',\n",
       " 'Rs. 8295',\n",
       " 'Rs. 9975Rs. 10500(5% OFF)',\n",
       " 'Rs. 8295',\n",
       " 'Rs. 8295',\n",
       " 'Rs. 8295',\n",
       " 'Rs. 11999',\n",
       " 'Rs. 12999',\n",
       " 'Rs. 10999',\n",
       " 'Rs. 9999',\n",
       " 'Rs. 8990',\n",
       " 'Rs. 7990',\n",
       " 'Rs. 8990',\n",
       " 'Rs. 7690',\n",
       " 'Rs. 7990',\n",
       " 'Rs. 7000',\n",
       " 'Rs. 8990',\n",
       " 'Rs. 6990',\n",
       " 'Rs. 10999',\n",
       " 'Rs. 8990',\n",
       " 'Rs. 7999',\n",
       " 'Rs. 8990',\n",
       " 'Rs. 6990',\n",
       " 'Rs. 6999',\n",
       " 'Rs. 8990',\n",
       " 'Rs. 10999',\n",
       " 'Rs. 11999',\n",
       " 'Rs. 6999',\n",
       " 'Rs. 7999',\n",
       " 'Rs. 8999',\n",
       " 'Rs. 7495',\n",
       " 'Rs. 6999']"
      ]
     },
     "execution_count": 151,
     "metadata": {},
     "output_type": "execute_result"
    }
   ],
   "source": [
    "price=[]\n",
    "for i in page_url:\n",
    "    driver.get(i)\n",
    "    money=driver.find_elements_by_xpath(\"//div[@class='product-price']\")[:100]\n",
    "    for i in money:\n",
    "        price.append(i.text)\n",
    "price"
   ]
  },
  {
   "cell_type": "code",
   "execution_count": 152,
   "metadata": {},
   "outputs": [
    {
     "data": {
      "text/html": [
       "<div>\n",
       "<style scoped>\n",
       "    .dataframe tbody tr th:only-of-type {\n",
       "        vertical-align: middle;\n",
       "    }\n",
       "\n",
       "    .dataframe tbody tr th {\n",
       "        vertical-align: top;\n",
       "    }\n",
       "\n",
       "    .dataframe thead th {\n",
       "        text-align: right;\n",
       "    }\n",
       "</style>\n",
       "<table border=\"1\" class=\"dataframe\">\n",
       "  <thead>\n",
       "    <tr style=\"text-align: right;\">\n",
       "      <th></th>\n",
       "      <th>Brand</th>\n",
       "      <th>description</th>\n",
       "      <th>price</th>\n",
       "    </tr>\n",
       "  </thead>\n",
       "  <tbody>\n",
       "    <tr>\n",
       "      <th>0</th>\n",
       "      <td>Puma</td>\n",
       "      <td>Women Charged Bandit 6 Running</td>\n",
       "      <td>Rs. 7999</td>\n",
       "    </tr>\n",
       "    <tr>\n",
       "      <th>1</th>\n",
       "      <td>Geox</td>\n",
       "      <td>Unisex Leather Trainers</td>\n",
       "      <td>Rs. 6999</td>\n",
       "    </tr>\n",
       "    <tr>\n",
       "      <th>2</th>\n",
       "      <td>ROSSO BRUNELLO</td>\n",
       "      <td>Scuderia Ferrari A3ROCAT Shoes</td>\n",
       "      <td>Rs. 7999</td>\n",
       "    </tr>\n",
       "    <tr>\n",
       "      <th>3</th>\n",
       "      <td>PUMA Motorsport</td>\n",
       "      <td>Unisex Colourblocked Sneakers</td>\n",
       "      <td>Rs. 12999</td>\n",
       "    </tr>\n",
       "    <tr>\n",
       "      <th>4</th>\n",
       "      <td>Puma</td>\n",
       "      <td>Mercedes F1 Drift Cat Shoes</td>\n",
       "      <td>Rs. 8490</td>\n",
       "    </tr>\n",
       "    <tr>\n",
       "      <th>...</th>\n",
       "      <td>...</td>\n",
       "      <td>...</td>\n",
       "      <td>...</td>\n",
       "    </tr>\n",
       "    <tr>\n",
       "      <th>95</th>\n",
       "      <td>Clarks</td>\n",
       "      <td>Men Leather Loafers</td>\n",
       "      <td>Rs. 6999</td>\n",
       "    </tr>\n",
       "    <tr>\n",
       "      <th>96</th>\n",
       "      <td>Puma</td>\n",
       "      <td>Unisex Colourblocked Sneakers</td>\n",
       "      <td>Rs. 7999</td>\n",
       "    </tr>\n",
       "    <tr>\n",
       "      <th>97</th>\n",
       "      <td>ADIDAS</td>\n",
       "      <td>Men Kaptir Super Sneakers</td>\n",
       "      <td>Rs. 8999</td>\n",
       "    </tr>\n",
       "    <tr>\n",
       "      <th>98</th>\n",
       "      <td>Florsheim</td>\n",
       "      <td>Men Solid Leather Formal Brogues</td>\n",
       "      <td>Rs. 7495</td>\n",
       "    </tr>\n",
       "    <tr>\n",
       "      <th>99</th>\n",
       "      <td>Puma</td>\n",
       "      <td>Unisex Rebound Future Trainers</td>\n",
       "      <td>Rs. 6999</td>\n",
       "    </tr>\n",
       "  </tbody>\n",
       "</table>\n",
       "<p>100 rows × 3 columns</p>\n",
       "</div>"
      ],
      "text/plain": [
       "              Brand                       description      price\n",
       "0              Puma    Women Charged Bandit 6 Running   Rs. 7999\n",
       "1              Geox           Unisex Leather Trainers   Rs. 6999\n",
       "2    ROSSO BRUNELLO    Scuderia Ferrari A3ROCAT Shoes   Rs. 7999\n",
       "3   PUMA Motorsport     Unisex Colourblocked Sneakers  Rs. 12999\n",
       "4              Puma       Mercedes F1 Drift Cat Shoes   Rs. 8490\n",
       "..              ...                               ...        ...\n",
       "95           Clarks               Men Leather Loafers   Rs. 6999\n",
       "96             Puma     Unisex Colourblocked Sneakers   Rs. 7999\n",
       "97           ADIDAS         Men Kaptir Super Sneakers   Rs. 8999\n",
       "98        Florsheim  Men Solid Leather Formal Brogues   Rs. 7495\n",
       "99             Puma    Unisex Rebound Future Trainers   Rs. 6999\n",
       "\n",
       "[100 rows x 3 columns]"
      ]
     },
     "execution_count": 152,
     "metadata": {},
     "output_type": "execute_result"
    }
   ],
   "source": [
    "df=pd.DataFrame()\n",
    "df['Brand']=product_brands\n",
    "df['description']=description\n",
    "df['price']=price\n",
    "df"
   ]
  },
  {
   "cell_type": "code",
   "execution_count": null,
   "metadata": {},
   "outputs": [],
   "source": []
  },
  {
   "cell_type": "markdown",
   "metadata": {},
   "source": [
    "# Q10: Go to webpage https://www.amazon.in/\n",
    "        \n",
    "Enter “Laptop” in the search field and then click the search icon. Then set CPU Type filter to “Intel Core i7” and “Intel Core i9” as shown in the below image:"
   ]
  },
  {
   "cell_type": "code",
   "execution_count": null,
   "metadata": {},
   "outputs": [],
   "source": []
  },
  {
   "cell_type": "code",
   "execution_count": 153,
   "metadata": {},
   "outputs": [],
   "source": [
    "url='https://www.amazon.in/'\n",
    "driver.get(url)"
   ]
  },
  {
   "cell_type": "code",
   "execution_count": 154,
   "metadata": {},
   "outputs": [],
   "source": [
    "driver.find_element_by_xpath('//input[@id=\"twotabsearchtextbox\"]').send_keys('Laptop')\n",
    "time.sleep(2)\n",
    "\n",
    "#clicking the search button\n",
    "\n",
    "driver.find_element_by_xpath('//input[@id=\"nav-search-submit-button\"]').click()"
   ]
  },
  {
   "cell_type": "code",
   "execution_count": 155,
   "metadata": {},
   "outputs": [],
   "source": [
    "driver.find_element_by_xpath(\"//*[@id='p_n_feature_thirteen_browse-bin/12598163031']/span/a\").click()\n",
    "time.sleep(4)\n",
    "\n",
    "driver.find_element_by_xpath(\"//*[@id='p_n_feature_thirteen_browse-bin/16757432031']/span/a\").click()"
   ]
  },
  {
   "cell_type": "code",
   "execution_count": 156,
   "metadata": {},
   "outputs": [
    {
     "data": {
      "text/html": [
       "<div>\n",
       "<style scoped>\n",
       "    .dataframe tbody tr th:only-of-type {\n",
       "        vertical-align: middle;\n",
       "    }\n",
       "\n",
       "    .dataframe tbody tr th {\n",
       "        vertical-align: top;\n",
       "    }\n",
       "\n",
       "    .dataframe thead th {\n",
       "        text-align: right;\n",
       "    }\n",
       "</style>\n",
       "<table border=\"1\" class=\"dataframe\">\n",
       "  <thead>\n",
       "    <tr style=\"text-align: right;\">\n",
       "      <th></th>\n",
       "      <th>Title</th>\n",
       "      <th>Ratings</th>\n",
       "      <th>Price</th>\n",
       "    </tr>\n",
       "  </thead>\n",
       "  <tbody>\n",
       "    <tr>\n",
       "      <th>0</th>\n",
       "      <td>Dell XPS 9370 13.3-inch FHD Display Thin &amp; Lig...</td>\n",
       "      <td>2.8 out of 5 stars</td>\n",
       "      <td>1,14,990</td>\n",
       "    </tr>\n",
       "    <tr>\n",
       "      <th>1</th>\n",
       "      <td>HP Envy 11th Gen Core i7 Processor 13.3-inch (...</td>\n",
       "      <td>4.1 out of 5 stars</td>\n",
       "      <td>1,23,350</td>\n",
       "    </tr>\n",
       "    <tr>\n",
       "      <th>2</th>\n",
       "      <td>Mi Notebook Horizon Edition 14 Intel Core i7-1...</td>\n",
       "      <td>4.2 out of 5 stars</td>\n",
       "      <td>57,990</td>\n",
       "    </tr>\n",
       "    <tr>\n",
       "      <th>3</th>\n",
       "      <td>Lenovo IdeaPad S540 11th Gen Intel Core i7 13....</td>\n",
       "      <td>4.3 out of 5 stars</td>\n",
       "      <td>77,990</td>\n",
       "    </tr>\n",
       "    <tr>\n",
       "      <th>4</th>\n",
       "      <td>Fujitsu UH-X 11th Gen Intel Core i7 13.3” (33....</td>\n",
       "      <td>4.1 out of 5 stars</td>\n",
       "      <td>1,07,990</td>\n",
       "    </tr>\n",
       "    <tr>\n",
       "      <th>5</th>\n",
       "      <td>ASUS ROG G703GI-E5148T 17.3\" (43.94 cms) FHD 1...</td>\n",
       "      <td>3.7 out of 5 stars</td>\n",
       "      <td>5,56,524</td>\n",
       "    </tr>\n",
       "    <tr>\n",
       "      <th>6</th>\n",
       "      <td>HP Pavilion 13(2021) 11th Gen Intel Core i7 La...</td>\n",
       "      <td>5.0 out of 5 stars</td>\n",
       "      <td>92,990</td>\n",
       "    </tr>\n",
       "    <tr>\n",
       "      <th>7</th>\n",
       "      <td>ASUS TUF Gaming F17 (2021), 17.3-inch (43.94 c...</td>\n",
       "      <td>4.1 out of 5 stars</td>\n",
       "      <td>1,13,990</td>\n",
       "    </tr>\n",
       "    <tr>\n",
       "      <th>8</th>\n",
       "      <td>Lenovo IdeaPad Flex 5 11th Gen Intel Core i7 1...</td>\n",
       "      <td>2.4 out of 5 stars</td>\n",
       "      <td>98,500</td>\n",
       "    </tr>\n",
       "    <tr>\n",
       "      <th>9</th>\n",
       "      <td>Lenovo Yoga 7 11th Gen Intel Core i7 14\" Full ...</td>\n",
       "      <td>4.7 out of 5 stars</td>\n",
       "      <td>97,989</td>\n",
       "    </tr>\n",
       "  </tbody>\n",
       "</table>\n",
       "</div>"
      ],
      "text/plain": [
       "                                               Title             Ratings  \\\n",
       "0  Dell XPS 9370 13.3-inch FHD Display Thin & Lig...  2.8 out of 5 stars   \n",
       "1  HP Envy 11th Gen Core i7 Processor 13.3-inch (...  4.1 out of 5 stars   \n",
       "2  Mi Notebook Horizon Edition 14 Intel Core i7-1...  4.2 out of 5 stars   \n",
       "3  Lenovo IdeaPad S540 11th Gen Intel Core i7 13....  4.3 out of 5 stars   \n",
       "4  Fujitsu UH-X 11th Gen Intel Core i7 13.3” (33....  4.1 out of 5 stars   \n",
       "5  ASUS ROG G703GI-E5148T 17.3\" (43.94 cms) FHD 1...  3.7 out of 5 stars   \n",
       "6  HP Pavilion 13(2021) 11th Gen Intel Core i7 La...  5.0 out of 5 stars   \n",
       "7  ASUS TUF Gaming F17 (2021), 17.3-inch (43.94 c...  4.1 out of 5 stars   \n",
       "8  Lenovo IdeaPad Flex 5 11th Gen Intel Core i7 1...  2.4 out of 5 stars   \n",
       "9  Lenovo Yoga 7 11th Gen Intel Core i7 14\" Full ...  4.7 out of 5 stars   \n",
       "\n",
       "      Price  \n",
       "0  1,14,990  \n",
       "1  1,23,350  \n",
       "2    57,990  \n",
       "3    77,990  \n",
       "4  1,07,990  \n",
       "5  5,56,524  \n",
       "6    92,990  \n",
       "7  1,13,990  \n",
       "8    98,500  \n",
       "9    97,989  "
      ]
     },
     "execution_count": 156,
     "metadata": {},
     "output_type": "execute_result"
    }
   ],
   "source": [
    "Title=[]\n",
    "Ratings=[]\n",
    "Price=[]\n",
    "\n",
    "#scrapping the title\n",
    "for i in driver.find_elements_by_xpath('//span[@class=\"a-size-medium a-color-base a-text-normal\"]'):\n",
    "    Title.append(i.text)\n",
    "    Title=Title[:10]\n",
    "\n",
    "#scrapping the rating\n",
    "\n",
    "Rating=driver.find_elements_by_xpath('//div[@class=\"a-row a-size-small\"]/span[1]')  \n",
    "for i in Rating:\n",
    "    Ratings.append(i.get_attribute('aria-label'))\n",
    "    Ratings=Ratings[:10]\n",
    "    \n",
    "#scrapping the Price\n",
    "for i in driver.find_elements_by_xpath('//span[@class=\"a-price-whole\"]'):\n",
    "    Price.append(i.text)\n",
    "    Price=Price[:10]\n",
    "    \n",
    "#creating the dataframe\n",
    "Amazon_laptop={'Title':Title,'Ratings':Ratings,'Price':Price}\n",
    "Amazon_laptop=pd.DataFrame(data=Amazon_laptop)\n",
    "Amazon_laptop"
   ]
  },
  {
   "cell_type": "code",
   "execution_count": null,
   "metadata": {},
   "outputs": [],
   "source": []
  },
  {
   "cell_type": "code",
   "execution_count": null,
   "metadata": {},
   "outputs": [],
   "source": []
  },
  {
   "cell_type": "code",
   "execution_count": null,
   "metadata": {},
   "outputs": [],
   "source": []
  },
  {
   "cell_type": "code",
   "execution_count": null,
   "metadata": {},
   "outputs": [],
   "source": []
  },
  {
   "cell_type": "code",
   "execution_count": null,
   "metadata": {},
   "outputs": [],
   "source": []
  },
  {
   "cell_type": "code",
   "execution_count": null,
   "metadata": {},
   "outputs": [],
   "source": []
  },
  {
   "cell_type": "code",
   "execution_count": null,
   "metadata": {},
   "outputs": [],
   "source": []
  },
  {
   "cell_type": "code",
   "execution_count": null,
   "metadata": {},
   "outputs": [],
   "source": []
  },
  {
   "cell_type": "code",
   "execution_count": null,
   "metadata": {},
   "outputs": [],
   "source": []
  },
  {
   "cell_type": "code",
   "execution_count": null,
   "metadata": {},
   "outputs": [],
   "source": []
  },
  {
   "cell_type": "code",
   "execution_count": null,
   "metadata": {},
   "outputs": [],
   "source": []
  },
  {
   "cell_type": "code",
   "execution_count": null,
   "metadata": {},
   "outputs": [],
   "source": []
  },
  {
   "cell_type": "code",
   "execution_count": null,
   "metadata": {},
   "outputs": [],
   "source": []
  },
  {
   "cell_type": "code",
   "execution_count": null,
   "metadata": {},
   "outputs": [],
   "source": []
  },
  {
   "cell_type": "code",
   "execution_count": null,
   "metadata": {},
   "outputs": [],
   "source": []
  },
  {
   "cell_type": "code",
   "execution_count": null,
   "metadata": {},
   "outputs": [],
   "source": []
  },
  {
   "cell_type": "code",
   "execution_count": null,
   "metadata": {},
   "outputs": [],
   "source": []
  },
  {
   "cell_type": "code",
   "execution_count": null,
   "metadata": {},
   "outputs": [],
   "source": []
  },
  {
   "cell_type": "code",
   "execution_count": null,
   "metadata": {},
   "outputs": [],
   "source": []
  },
  {
   "cell_type": "code",
   "execution_count": null,
   "metadata": {},
   "outputs": [],
   "source": []
  },
  {
   "cell_type": "code",
   "execution_count": null,
   "metadata": {},
   "outputs": [],
   "source": []
  },
  {
   "cell_type": "code",
   "execution_count": null,
   "metadata": {},
   "outputs": [],
   "source": []
  },
  {
   "cell_type": "code",
   "execution_count": null,
   "metadata": {},
   "outputs": [],
   "source": []
  },
  {
   "cell_type": "code",
   "execution_count": null,
   "metadata": {},
   "outputs": [],
   "source": []
  },
  {
   "cell_type": "code",
   "execution_count": null,
   "metadata": {},
   "outputs": [],
   "source": []
  },
  {
   "cell_type": "code",
   "execution_count": null,
   "metadata": {},
   "outputs": [],
   "source": []
  },
  {
   "cell_type": "code",
   "execution_count": null,
   "metadata": {},
   "outputs": [],
   "source": []
  },
  {
   "cell_type": "code",
   "execution_count": null,
   "metadata": {},
   "outputs": [],
   "source": []
  },
  {
   "cell_type": "code",
   "execution_count": null,
   "metadata": {},
   "outputs": [],
   "source": []
  },
  {
   "cell_type": "code",
   "execution_count": null,
   "metadata": {},
   "outputs": [],
   "source": []
  },
  {
   "cell_type": "code",
   "execution_count": null,
   "metadata": {},
   "outputs": [],
   "source": []
  },
  {
   "cell_type": "code",
   "execution_count": null,
   "metadata": {},
   "outputs": [],
   "source": []
  },
  {
   "cell_type": "code",
   "execution_count": null,
   "metadata": {},
   "outputs": [],
   "source": []
  },
  {
   "cell_type": "code",
   "execution_count": null,
   "metadata": {},
   "outputs": [],
   "source": []
  },
  {
   "cell_type": "code",
   "execution_count": null,
   "metadata": {},
   "outputs": [],
   "source": []
  }
 ],
 "metadata": {
  "kernelspec": {
   "display_name": "Python 3",
   "language": "python",
   "name": "python3"
  },
  "language_info": {
   "codemirror_mode": {
    "name": "ipython",
    "version": 3
   },
   "file_extension": ".py",
   "mimetype": "text/x-python",
   "name": "python",
   "nbconvert_exporter": "python",
   "pygments_lexer": "ipython3",
   "version": "3.8.5"
  }
 },
 "nbformat": 4,
 "nbformat_minor": 4
}
